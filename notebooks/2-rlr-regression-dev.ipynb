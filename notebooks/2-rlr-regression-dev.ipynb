{
 "cells": [
  {
   "cell_type": "markdown",
   "metadata": {},
   "source": [
    "## Regression dev - Ocean data"
   ]
  },
  {
   "cell_type": "code",
   "execution_count": 1,
   "metadata": {},
   "outputs": [
    {
     "name": "stdout",
     "output_type": "stream",
     "text": [
      "/Users/ryanrappa/Desktop/GoogleDrive/ds/kaggle_tools\n"
     ]
    }
   ],
   "source": [
    "cd .."
   ]
  },
  {
   "cell_type": "code",
   "execution_count": 28,
   "metadata": {},
   "outputs": [],
   "source": [
    "import pandas as pd\n",
    "import numpy as np\n",
    "from src.regression import Regression"
   ]
  },
  {
   "cell_type": "code",
   "execution_count": 3,
   "metadata": {},
   "outputs": [
    {
     "name": "stderr",
     "output_type": "stream",
     "text": [
      "//anaconda3/lib/python3.7/site-packages/IPython/core/interactiveshell.py:3057: DtypeWarning: Columns (47,73) have mixed types. Specify dtype option on import or set low_memory=False.\n",
      "  interactivity=interactivity, compiler=compiler, result=result)\n"
     ]
    }
   ],
   "source": [
    "df = pd.read_csv('data/bottle.csv')\n",
    "df = df.select_dtypes(exclude=['object'])\n",
    "df = df.dropna(thresh=800000, axis=1)\n",
    "df = df.dropna()\n",
    "df = df[df.columns.drop(list(df.filter(regex='R_')))] #dropping duplicate columns\n",
    "df = df.drop(['Cst_Cnt', 'Btl_Cnt'], axis=1) #dropping index-like columns"
   ]
  },
  {
   "cell_type": "code",
   "execution_count": 4,
   "metadata": {},
   "outputs": [
    {
     "name": "stdout",
     "output_type": "stream",
     "text": [
      "<class 'pandas.core.frame.DataFrame'>\n",
      "Int64Index: 733418 entries, 0 to 864860\n",
      "Data columns (total 12 columns):\n",
      "Depthm    733418 non-null int64\n",
      "T_degC    733418 non-null float64\n",
      "Salnty    733418 non-null float64\n",
      "STheta    733418 non-null float64\n",
      "RecInd    733418 non-null int64\n",
      "T_prec    733418 non-null float64\n",
      "S_prec    733418 non-null float64\n",
      "NH3q      733418 non-null float64\n",
      "C14A1q    733418 non-null float64\n",
      "C14A2q    733418 non-null float64\n",
      "DarkAq    733418 non-null float64\n",
      "MeanAq    733418 non-null float64\n",
      "dtypes: float64(10), int64(2)\n",
      "memory usage: 72.7 MB\n"
     ]
    }
   ],
   "source": [
    "df.info()"
   ]
  },
  {
   "cell_type": "code",
   "execution_count": 5,
   "metadata": {},
   "outputs": [
    {
     "data": {
      "text/plain": [
       "Index(['Depthm', 'T_degC', 'Salnty', 'STheta', 'RecInd', 'T_prec', 'S_prec',\n",
       "       'NH3q', 'C14A1q', 'C14A2q', 'DarkAq', 'MeanAq'],\n",
       "      dtype='object')"
      ]
     },
     "execution_count": 5,
     "metadata": {},
     "output_type": "execute_result"
    }
   ],
   "source": [
    "df.columns"
   ]
  },
  {
   "cell_type": "code",
   "execution_count": 6,
   "metadata": {},
   "outputs": [
    {
     "data": {
      "text/html": [
       "<div>\n",
       "<style scoped>\n",
       "    .dataframe tbody tr th:only-of-type {\n",
       "        vertical-align: middle;\n",
       "    }\n",
       "\n",
       "    .dataframe tbody tr th {\n",
       "        vertical-align: top;\n",
       "    }\n",
       "\n",
       "    .dataframe thead th {\n",
       "        text-align: right;\n",
       "    }\n",
       "</style>\n",
       "<table border=\"1\" class=\"dataframe\">\n",
       "  <thead>\n",
       "    <tr style=\"text-align: right;\">\n",
       "      <th></th>\n",
       "      <th>Depthm</th>\n",
       "      <th>T_degC</th>\n",
       "      <th>Salnty</th>\n",
       "      <th>STheta</th>\n",
       "      <th>RecInd</th>\n",
       "      <th>T_prec</th>\n",
       "      <th>S_prec</th>\n",
       "      <th>NH3q</th>\n",
       "      <th>C14A1q</th>\n",
       "      <th>C14A2q</th>\n",
       "      <th>DarkAq</th>\n",
       "      <th>MeanAq</th>\n",
       "    </tr>\n",
       "  </thead>\n",
       "  <tbody>\n",
       "    <tr>\n",
       "      <th>0</th>\n",
       "      <td>0</td>\n",
       "      <td>10.50</td>\n",
       "      <td>33.440</td>\n",
       "      <td>25.649</td>\n",
       "      <td>3</td>\n",
       "      <td>1.0</td>\n",
       "      <td>2.0</td>\n",
       "      <td>9.0</td>\n",
       "      <td>9.0</td>\n",
       "      <td>9.0</td>\n",
       "      <td>9.0</td>\n",
       "      <td>9.0</td>\n",
       "    </tr>\n",
       "    <tr>\n",
       "      <th>1</th>\n",
       "      <td>8</td>\n",
       "      <td>10.46</td>\n",
       "      <td>33.440</td>\n",
       "      <td>25.656</td>\n",
       "      <td>3</td>\n",
       "      <td>2.0</td>\n",
       "      <td>2.0</td>\n",
       "      <td>9.0</td>\n",
       "      <td>9.0</td>\n",
       "      <td>9.0</td>\n",
       "      <td>9.0</td>\n",
       "      <td>9.0</td>\n",
       "    </tr>\n",
       "    <tr>\n",
       "      <th>2</th>\n",
       "      <td>10</td>\n",
       "      <td>10.46</td>\n",
       "      <td>33.437</td>\n",
       "      <td>25.654</td>\n",
       "      <td>7</td>\n",
       "      <td>2.0</td>\n",
       "      <td>3.0</td>\n",
       "      <td>9.0</td>\n",
       "      <td>9.0</td>\n",
       "      <td>9.0</td>\n",
       "      <td>9.0</td>\n",
       "      <td>9.0</td>\n",
       "    </tr>\n",
       "    <tr>\n",
       "      <th>3</th>\n",
       "      <td>19</td>\n",
       "      <td>10.45</td>\n",
       "      <td>33.420</td>\n",
       "      <td>25.643</td>\n",
       "      <td>3</td>\n",
       "      <td>2.0</td>\n",
       "      <td>2.0</td>\n",
       "      <td>9.0</td>\n",
       "      <td>9.0</td>\n",
       "      <td>9.0</td>\n",
       "      <td>9.0</td>\n",
       "      <td>9.0</td>\n",
       "    </tr>\n",
       "    <tr>\n",
       "      <th>4</th>\n",
       "      <td>20</td>\n",
       "      <td>10.45</td>\n",
       "      <td>33.421</td>\n",
       "      <td>25.643</td>\n",
       "      <td>7</td>\n",
       "      <td>2.0</td>\n",
       "      <td>3.0</td>\n",
       "      <td>9.0</td>\n",
       "      <td>9.0</td>\n",
       "      <td>9.0</td>\n",
       "      <td>9.0</td>\n",
       "      <td>9.0</td>\n",
       "    </tr>\n",
       "  </tbody>\n",
       "</table>\n",
       "</div>"
      ],
      "text/plain": [
       "   Depthm  T_degC  Salnty  STheta  RecInd  T_prec  S_prec  NH3q  C14A1q  \\\n",
       "0       0   10.50  33.440  25.649       3     1.0     2.0   9.0     9.0   \n",
       "1       8   10.46  33.440  25.656       3     2.0     2.0   9.0     9.0   \n",
       "2      10   10.46  33.437  25.654       7     2.0     3.0   9.0     9.0   \n",
       "3      19   10.45  33.420  25.643       3     2.0     2.0   9.0     9.0   \n",
       "4      20   10.45  33.421  25.643       7     2.0     3.0   9.0     9.0   \n",
       "\n",
       "   C14A2q  DarkAq  MeanAq  \n",
       "0     9.0     9.0     9.0  \n",
       "1     9.0     9.0     9.0  \n",
       "2     9.0     9.0     9.0  \n",
       "3     9.0     9.0     9.0  \n",
       "4     9.0     9.0     9.0  "
      ]
     },
     "execution_count": 6,
     "metadata": {},
     "output_type": "execute_result"
    }
   ],
   "source": [
    "df.head()"
   ]
  },
  {
   "cell_type": "code",
   "execution_count": 7,
   "metadata": {},
   "outputs": [
    {
     "data": {
      "text/html": [
       "<div>\n",
       "<style scoped>\n",
       "    .dataframe tbody tr th:only-of-type {\n",
       "        vertical-align: middle;\n",
       "    }\n",
       "\n",
       "    .dataframe tbody tr th {\n",
       "        vertical-align: top;\n",
       "    }\n",
       "\n",
       "    .dataframe thead th {\n",
       "        text-align: right;\n",
       "    }\n",
       "</style>\n",
       "<table border=\"1\" class=\"dataframe\">\n",
       "  <thead>\n",
       "    <tr style=\"text-align: right;\">\n",
       "      <th></th>\n",
       "      <th>Depthm</th>\n",
       "      <th>T_degC</th>\n",
       "      <th>Salnty</th>\n",
       "      <th>STheta</th>\n",
       "      <th>RecInd</th>\n",
       "      <th>T_prec</th>\n",
       "      <th>S_prec</th>\n",
       "      <th>NH3q</th>\n",
       "      <th>C14A1q</th>\n",
       "      <th>C14A2q</th>\n",
       "      <th>DarkAq</th>\n",
       "      <th>MeanAq</th>\n",
       "    </tr>\n",
       "  </thead>\n",
       "  <tbody>\n",
       "    <tr>\n",
       "      <th>count</th>\n",
       "      <td>733418.000000</td>\n",
       "      <td>733418.000000</td>\n",
       "      <td>733418.000000</td>\n",
       "      <td>733418.000000</td>\n",
       "      <td>733418.000000</td>\n",
       "      <td>733418.000000</td>\n",
       "      <td>733418.000000</td>\n",
       "      <td>733418.000000</td>\n",
       "      <td>733418.000000</td>\n",
       "      <td>733418.000000</td>\n",
       "      <td>733418.000000</td>\n",
       "      <td>733418.000000</td>\n",
       "    </tr>\n",
       "    <tr>\n",
       "      <th>mean</th>\n",
       "      <td>228.062580</td>\n",
       "      <td>10.764656</td>\n",
       "      <td>33.861743</td>\n",
       "      <td>25.848316</td>\n",
       "      <td>4.723822</td>\n",
       "      <td>2.018854</td>\n",
       "      <td>2.694038</td>\n",
       "      <td>8.944438</td>\n",
       "      <td>8.999992</td>\n",
       "      <td>8.999992</td>\n",
       "      <td>8.999992</td>\n",
       "      <td>8.999992</td>\n",
       "    </tr>\n",
       "    <tr>\n",
       "      <th>std</th>\n",
       "      <td>309.103372</td>\n",
       "      <td>4.242786</td>\n",
       "      <td>0.460998</td>\n",
       "      <td>1.180908</td>\n",
       "      <td>1.865705</td>\n",
       "      <td>0.154670</td>\n",
       "      <td>0.460814</td>\n",
       "      <td>0.524139</td>\n",
       "      <td>0.002860</td>\n",
       "      <td>0.002860</td>\n",
       "      <td>0.002860</td>\n",
       "      <td>0.002860</td>\n",
       "    </tr>\n",
       "    <tr>\n",
       "      <th>min</th>\n",
       "      <td>0.000000</td>\n",
       "      <td>1.440000</td>\n",
       "      <td>28.431000</td>\n",
       "      <td>20.934000</td>\n",
       "      <td>3.000000</td>\n",
       "      <td>1.000000</td>\n",
       "      <td>2.000000</td>\n",
       "      <td>4.000000</td>\n",
       "      <td>8.000000</td>\n",
       "      <td>8.000000</td>\n",
       "      <td>8.000000</td>\n",
       "      <td>8.000000</td>\n",
       "    </tr>\n",
       "    <tr>\n",
       "      <th>25%</th>\n",
       "      <td>50.000000</td>\n",
       "      <td>7.670000</td>\n",
       "      <td>33.510000</td>\n",
       "      <td>25.004000</td>\n",
       "      <td>3.000000</td>\n",
       "      <td>2.000000</td>\n",
       "      <td>2.000000</td>\n",
       "      <td>9.000000</td>\n",
       "      <td>9.000000</td>\n",
       "      <td>9.000000</td>\n",
       "      <td>9.000000</td>\n",
       "      <td>9.000000</td>\n",
       "    </tr>\n",
       "    <tr>\n",
       "      <th>50%</th>\n",
       "      <td>125.000000</td>\n",
       "      <td>9.980000</td>\n",
       "      <td>33.900000</td>\n",
       "      <td>26.043000</td>\n",
       "      <td>3.000000</td>\n",
       "      <td>2.000000</td>\n",
       "      <td>3.000000</td>\n",
       "      <td>9.000000</td>\n",
       "      <td>9.000000</td>\n",
       "      <td>9.000000</td>\n",
       "      <td>9.000000</td>\n",
       "      <td>9.000000</td>\n",
       "    </tr>\n",
       "    <tr>\n",
       "      <th>75%</th>\n",
       "      <td>300.000000</td>\n",
       "      <td>13.780000</td>\n",
       "      <td>34.210000</td>\n",
       "      <td>26.661000</td>\n",
       "      <td>7.000000</td>\n",
       "      <td>2.000000</td>\n",
       "      <td>3.000000</td>\n",
       "      <td>9.000000</td>\n",
       "      <td>9.000000</td>\n",
       "      <td>9.000000</td>\n",
       "      <td>9.000000</td>\n",
       "      <td>9.000000</td>\n",
       "    </tr>\n",
       "    <tr>\n",
       "      <th>max</th>\n",
       "      <td>5351.000000</td>\n",
       "      <td>31.140000</td>\n",
       "      <td>37.034000</td>\n",
       "      <td>250.784000</td>\n",
       "      <td>7.000000</td>\n",
       "      <td>3.000000</td>\n",
       "      <td>3.000000</td>\n",
       "      <td>9.000000</td>\n",
       "      <td>9.000000</td>\n",
       "      <td>9.000000</td>\n",
       "      <td>9.000000</td>\n",
       "      <td>9.000000</td>\n",
       "    </tr>\n",
       "  </tbody>\n",
       "</table>\n",
       "</div>"
      ],
      "text/plain": [
       "              Depthm         T_degC         Salnty         STheta  \\\n",
       "count  733418.000000  733418.000000  733418.000000  733418.000000   \n",
       "mean      228.062580      10.764656      33.861743      25.848316   \n",
       "std       309.103372       4.242786       0.460998       1.180908   \n",
       "min         0.000000       1.440000      28.431000      20.934000   \n",
       "25%        50.000000       7.670000      33.510000      25.004000   \n",
       "50%       125.000000       9.980000      33.900000      26.043000   \n",
       "75%       300.000000      13.780000      34.210000      26.661000   \n",
       "max      5351.000000      31.140000      37.034000     250.784000   \n",
       "\n",
       "              RecInd         T_prec         S_prec           NH3q  \\\n",
       "count  733418.000000  733418.000000  733418.000000  733418.000000   \n",
       "mean        4.723822       2.018854       2.694038       8.944438   \n",
       "std         1.865705       0.154670       0.460814       0.524139   \n",
       "min         3.000000       1.000000       2.000000       4.000000   \n",
       "25%         3.000000       2.000000       2.000000       9.000000   \n",
       "50%         3.000000       2.000000       3.000000       9.000000   \n",
       "75%         7.000000       2.000000       3.000000       9.000000   \n",
       "max         7.000000       3.000000       3.000000       9.000000   \n",
       "\n",
       "              C14A1q         C14A2q         DarkAq         MeanAq  \n",
       "count  733418.000000  733418.000000  733418.000000  733418.000000  \n",
       "mean        8.999992       8.999992       8.999992       8.999992  \n",
       "std         0.002860       0.002860       0.002860       0.002860  \n",
       "min         8.000000       8.000000       8.000000       8.000000  \n",
       "25%         9.000000       9.000000       9.000000       9.000000  \n",
       "50%         9.000000       9.000000       9.000000       9.000000  \n",
       "75%         9.000000       9.000000       9.000000       9.000000  \n",
       "max         9.000000       9.000000       9.000000       9.000000  "
      ]
     },
     "execution_count": 7,
     "metadata": {},
     "output_type": "execute_result"
    }
   ],
   "source": [
    "df.describe()"
   ]
  },
  {
   "cell_type": "code",
   "execution_count": 8,
   "metadata": {},
   "outputs": [
    {
     "name": "stdout",
     "output_type": "stream",
     "text": [
      "Rows with outliers: 41023\n"
     ]
    },
    {
     "data": {
      "text/html": [
       "<div>\n",
       "<style scoped>\n",
       "    .dataframe tbody tr th:only-of-type {\n",
       "        vertical-align: middle;\n",
       "    }\n",
       "\n",
       "    .dataframe tbody tr th {\n",
       "        vertical-align: top;\n",
       "    }\n",
       "\n",
       "    .dataframe thead th {\n",
       "        text-align: right;\n",
       "    }\n",
       "</style>\n",
       "<table border=\"1\" class=\"dataframe\">\n",
       "  <thead>\n",
       "    <tr style=\"text-align: right;\">\n",
       "      <th></th>\n",
       "      <th>Depthm</th>\n",
       "      <th>T_degC</th>\n",
       "      <th>Salnty</th>\n",
       "      <th>STheta</th>\n",
       "      <th>RecInd</th>\n",
       "      <th>T_prec</th>\n",
       "      <th>S_prec</th>\n",
       "      <th>NH3q</th>\n",
       "      <th>C14A1q</th>\n",
       "      <th>C14A2q</th>\n",
       "      <th>DarkAq</th>\n",
       "      <th>MeanAq</th>\n",
       "    </tr>\n",
       "  </thead>\n",
       "  <tbody>\n",
       "    <tr>\n",
       "      <th>0</th>\n",
       "      <td>0</td>\n",
       "      <td>10.50</td>\n",
       "      <td>33.440</td>\n",
       "      <td>25.649</td>\n",
       "      <td>3</td>\n",
       "      <td>1.0</td>\n",
       "      <td>2.0</td>\n",
       "      <td>9.0</td>\n",
       "      <td>9.0</td>\n",
       "      <td>9.0</td>\n",
       "      <td>9.0</td>\n",
       "      <td>9.0</td>\n",
       "    </tr>\n",
       "    <tr>\n",
       "      <th>29</th>\n",
       "      <td>0</td>\n",
       "      <td>10.10</td>\n",
       "      <td>32.950</td>\n",
       "      <td>25.335</td>\n",
       "      <td>3</td>\n",
       "      <td>1.0</td>\n",
       "      <td>2.0</td>\n",
       "      <td>9.0</td>\n",
       "      <td>9.0</td>\n",
       "      <td>9.0</td>\n",
       "      <td>9.0</td>\n",
       "      <td>9.0</td>\n",
       "    </tr>\n",
       "    <tr>\n",
       "      <th>59</th>\n",
       "      <td>1200</td>\n",
       "      <td>3.15</td>\n",
       "      <td>34.429</td>\n",
       "      <td>27.423</td>\n",
       "      <td>7</td>\n",
       "      <td>2.0</td>\n",
       "      <td>3.0</td>\n",
       "      <td>9.0</td>\n",
       "      <td>9.0</td>\n",
       "      <td>9.0</td>\n",
       "      <td>9.0</td>\n",
       "      <td>9.0</td>\n",
       "    </tr>\n",
       "    <tr>\n",
       "      <th>60</th>\n",
       "      <td>1203</td>\n",
       "      <td>3.14</td>\n",
       "      <td>34.430</td>\n",
       "      <td>27.425</td>\n",
       "      <td>3</td>\n",
       "      <td>2.0</td>\n",
       "      <td>2.0</td>\n",
       "      <td>9.0</td>\n",
       "      <td>9.0</td>\n",
       "      <td>9.0</td>\n",
       "      <td>9.0</td>\n",
       "      <td>9.0</td>\n",
       "    </tr>\n",
       "    <tr>\n",
       "      <th>61</th>\n",
       "      <td>0</td>\n",
       "      <td>10.20</td>\n",
       "      <td>32.630</td>\n",
       "      <td>25.069</td>\n",
       "      <td>3</td>\n",
       "      <td>1.0</td>\n",
       "      <td>2.0</td>\n",
       "      <td>9.0</td>\n",
       "      <td>9.0</td>\n",
       "      <td>9.0</td>\n",
       "      <td>9.0</td>\n",
       "      <td>9.0</td>\n",
       "    </tr>\n",
       "  </tbody>\n",
       "</table>\n",
       "</div>"
      ],
      "text/plain": [
       "    Depthm  T_degC  Salnty  STheta  RecInd  T_prec  S_prec  NH3q  C14A1q  \\\n",
       "0        0   10.50  33.440  25.649       3     1.0     2.0   9.0     9.0   \n",
       "29       0   10.10  32.950  25.335       3     1.0     2.0   9.0     9.0   \n",
       "59    1200    3.15  34.429  27.423       7     2.0     3.0   9.0     9.0   \n",
       "60    1203    3.14  34.430  27.425       3     2.0     2.0   9.0     9.0   \n",
       "61       0   10.20  32.630  25.069       3     1.0     2.0   9.0     9.0   \n",
       "\n",
       "    C14A2q  DarkAq  MeanAq  \n",
       "0      9.0     9.0     9.0  \n",
       "29     9.0     9.0     9.0  \n",
       "59     9.0     9.0     9.0  \n",
       "60     9.0     9.0     9.0  \n",
       "61     9.0     9.0     9.0  "
      ]
     },
     "execution_count": 8,
     "metadata": {},
     "output_type": "execute_result"
    }
   ],
   "source": [
    "## ID'ing outliers: https://stackoverflow.com/questions/23199796/detect-and-exclude-outliers-in-pandas-data-frame\n",
    "from scipy import stats\n",
    "print(\"Rows with outliers:\", len(df[~(np.abs(stats.zscore(df)) < 3).all(axis=1)])) #numer of rows with outliers\n",
    "df[~(np.abs(stats.zscore(df)) < 3).all(axis=1)].head() #see rows with outliers\n",
    "# df = df[(np.abs(stats.zscore(df)) < 3).all(axis=1)] #keep only rows w/o outliers"
   ]
  },
  {
   "cell_type": "code",
   "execution_count": 9,
   "metadata": {},
   "outputs": [],
   "source": [
    "X_cols = ['Depthm', 'Salnty', 'STheta', 'RecInd', 'T_prec']\n",
    "y_col = 'T_degC'"
   ]
  },
  {
   "cell_type": "code",
   "execution_count": 10,
   "metadata": {},
   "outputs": [
    {
     "data": {
      "text/html": [
       "<div>\n",
       "<style scoped>\n",
       "    .dataframe tbody tr th:only-of-type {\n",
       "        vertical-align: middle;\n",
       "    }\n",
       "\n",
       "    .dataframe tbody tr th {\n",
       "        vertical-align: top;\n",
       "    }\n",
       "\n",
       "    .dataframe thead th {\n",
       "        text-align: right;\n",
       "    }\n",
       "</style>\n",
       "<table border=\"1\" class=\"dataframe\">\n",
       "  <thead>\n",
       "    <tr style=\"text-align: right;\">\n",
       "      <th></th>\n",
       "      <th>Depthm</th>\n",
       "      <th>Salnty</th>\n",
       "      <th>STheta</th>\n",
       "      <th>RecInd</th>\n",
       "      <th>T_prec</th>\n",
       "    </tr>\n",
       "  </thead>\n",
       "  <tbody>\n",
       "    <tr>\n",
       "      <th>0</th>\n",
       "      <td>0</td>\n",
       "      <td>33.440</td>\n",
       "      <td>25.649</td>\n",
       "      <td>3</td>\n",
       "      <td>1.0</td>\n",
       "    </tr>\n",
       "    <tr>\n",
       "      <th>1</th>\n",
       "      <td>8</td>\n",
       "      <td>33.440</td>\n",
       "      <td>25.656</td>\n",
       "      <td>3</td>\n",
       "      <td>2.0</td>\n",
       "    </tr>\n",
       "    <tr>\n",
       "      <th>2</th>\n",
       "      <td>10</td>\n",
       "      <td>33.437</td>\n",
       "      <td>25.654</td>\n",
       "      <td>7</td>\n",
       "      <td>2.0</td>\n",
       "    </tr>\n",
       "    <tr>\n",
       "      <th>3</th>\n",
       "      <td>19</td>\n",
       "      <td>33.420</td>\n",
       "      <td>25.643</td>\n",
       "      <td>3</td>\n",
       "      <td>2.0</td>\n",
       "    </tr>\n",
       "    <tr>\n",
       "      <th>4</th>\n",
       "      <td>20</td>\n",
       "      <td>33.421</td>\n",
       "      <td>25.643</td>\n",
       "      <td>7</td>\n",
       "      <td>2.0</td>\n",
       "    </tr>\n",
       "  </tbody>\n",
       "</table>\n",
       "</div>"
      ],
      "text/plain": [
       "   Depthm  Salnty  STheta  RecInd  T_prec\n",
       "0       0  33.440  25.649       3     1.0\n",
       "1       8  33.440  25.656       3     2.0\n",
       "2      10  33.437  25.654       7     2.0\n",
       "3      19  33.420  25.643       3     2.0\n",
       "4      20  33.421  25.643       7     2.0"
      ]
     },
     "execution_count": 10,
     "metadata": {},
     "output_type": "execute_result"
    }
   ],
   "source": [
    "df[['Depthm', 'Salnty', 'STheta', 'RecInd', 'T_prec']].head()\n",
    "#making sure columns stay in input order, for correct labeling of coefs later"
   ]
  },
  {
   "cell_type": "code",
   "execution_count": 11,
   "metadata": {},
   "outputs": [],
   "source": [
    "reg = Regression(df, X_cols, y_col)"
   ]
  },
  {
   "cell_type": "code",
   "execution_count": 12,
   "metadata": {},
   "outputs": [
    {
     "data": {
      "text/plain": [
       "array([-0.06237786, -0.07180563, -0.07180563, ..., -1.16589872,\n",
       "        1.88068622,  1.86843012])"
      ]
     },
     "execution_count": 12,
     "metadata": {},
     "output_type": "execute_result"
    }
   ],
   "source": [
    "reg.y_scaled"
   ]
  },
  {
   "cell_type": "code",
   "execution_count": 13,
   "metadata": {},
   "outputs": [
    {
     "data": {
      "text/plain": [
       "array([10.5  , 10.46 , 10.46 , ...,  5.818, 18.744, 18.692])"
      ]
     },
     "execution_count": 13,
     "metadata": {},
     "output_type": "execute_result"
    }
   ],
   "source": [
    "reg.y"
   ]
  },
  {
   "cell_type": "code",
   "execution_count": 14,
   "metadata": {},
   "outputs": [
    {
     "data": {
      "text/plain": [
       "array([1.0211893 , 1.01953168, 1.01953168, ..., 0.76477372, 1.27286228,\n",
       "       1.27165577])"
      ]
     },
     "execution_count": 14,
     "metadata": {},
     "output_type": "execute_result"
    }
   ],
   "source": [
    "reg.y_log"
   ]
  },
  {
   "cell_type": "code",
   "execution_count": 34,
   "metadata": {},
   "outputs": [
    {
     "name": "stdout",
     "output_type": "stream",
     "text": [
      "-------- BEST MODEL --------\n",
      "ElasticNet(alpha=0.464158883361278, copy_X=True, fit_intercept=True,\n",
      "      l1_ratio=0.25, max_iter=1000, normalize=False, positive=False,\n",
      "      precompute=False, random_state=None, selection='cyclic', tol=0.0001,\n",
      "      warm_start=False)\n",
      "-------- ---------- --------\n",
      "CPU times: user 4.19 s, sys: 786 ms, total: 4.98 s\n",
      "Wall time: 29min 56s\n"
     ]
    }
   ],
   "source": [
    "# %%time\n",
    "# alphas = np.logspace(-2, .5, 10)\n",
    "# l1_ratios = np.linspace(0, 1, 5)\n",
    "# elastic_net, preds = reg.elastic_net(alphas, l1_ratios, 10)\n",
    "### 500 models --> 30 minutes: DO FEWER"
   ]
  },
  {
   "cell_type": "code",
   "execution_count": 41,
   "metadata": {},
   "outputs": [
    {
     "data": {
      "text/plain": [
       "array([-1.18206724, -0.09162409, -1.93545801, -0.        , -0.0076751 ])"
      ]
     },
     "execution_count": 41,
     "metadata": {},
     "output_type": "execute_result"
    }
   ],
   "source": [
    "# elastic_net.best_estimator_.coef_"
   ]
  },
  {
   "cell_type": "code",
   "execution_count": 18,
   "metadata": {},
   "outputs": [
    {
     "name": "stdout",
     "output_type": "stream",
     "text": [
      "-------- BEST MODEL --------\n",
      "ElasticNet(alpha=0.7498942093324559, copy_X=True, fit_intercept=True,\n",
      "           l1_ratio=0.5, max_iter=1000, normalize=False, positive=False,\n",
      "           precompute=False, random_state=None, selection='cyclic', tol=0.0001,\n",
      "           warm_start=False)\n",
      "-------- ---------- --------\n",
      "CPU times: user 788 ms, sys: 178 ms, total: 965 ms\n",
      "Wall time: 6min 4s\n"
     ]
    }
   ],
   "source": [
    "%%time\n",
    "alphas = np.logspace(-2, .5, 5)\n",
    "l1_ratios = np.linspace(0, 1, 3)\n",
    "elastic_net, preds = reg.elastic_net(alphas, l1_ratios, 5)"
   ]
  },
  {
   "cell_type": "code",
   "execution_count": 19,
   "metadata": {},
   "outputs": [
    {
     "data": {
      "image/png": "[encoded data removed]",
      "text/plain": [
       "<Figure size 432x432 with 1 Axes>"
      ]
     },
     "metadata": {
      "needs_background": "light"
     },
     "output_type": "display_data"
    },
    {
     "name": "stdout",
     "output_type": "stream",
     "text": [
      "MSE: 6.002883322072935\n",
      "MAE: 1.7941082886297566\n",
      "R^2: 0.6665289145489626\n",
      "Median Absolute Error: 1.5626477600129842\n",
      "CPU times: user 7.83 s, sys: 43.6 ms, total: 7.88 s\n",
      "Wall time: 7.75 s\n"
     ]
    }
   ],
   "source": [
    "%%time\n",
    "reg.plot_residuals(preds)"
   ]
  },
  {
   "cell_type": "code",
   "execution_count": 34,
   "metadata": {},
   "outputs": [
    {
     "name": "stdout",
     "output_type": "stream",
     "text": [
      "T_prec   -0.000000\n",
      "RecInd   -0.000000\n",
      "Salnty   -0.009819\n",
      "Depthm   -1.064164\n",
      "STheta   -1.793534\n",
      "dtype: float64\n",
      "Intercept   10.764655737928456\n"
     ]
    },
    {
     "data": {
      "image/png": "[encoded data removed]",
      "text/plain": [
       "<Figure size 864x648 with 1 Axes>"
      ]
     },
     "metadata": {
      "needs_background": "light"
     },
     "output_type": "display_data"
    }
   ],
   "source": [
    "reg.coefficient_plot(elastic_net)"
   ]
  },
  {
   "cell_type": "code",
   "execution_count": 22,
   "metadata": {},
   "outputs": [
    {
     "name": "stdout",
     "output_type": "stream",
     "text": [
      "-------- BEST MODEL --------\n",
      "SGDRegressor(alpha=0.1778279410038923, average=False, early_stopping=False,\n",
      "             epsilon=0.1, eta0=0.01, fit_intercept=True, l1_ratio=0.0,\n",
      "             learning_rate='invscaling', loss='squared_loss', max_iter=1000,\n",
      "             n_iter_no_change=5, penalty='elasticnet', power_t=0.25,\n",
      "             random_state=None, shuffle=True, tol=0.001,\n",
      "             validation_fraction=0.1, verbose=0, warm_start=False)\n",
      "-------- ---------- --------\n",
      "CPU times: user 5.82 s, sys: 211 ms, total: 6.03 s\n",
      "Wall time: 1min 16s\n"
     ]
    }
   ],
   "source": [
    "%%time\n",
    "alphas = np.logspace(-2, .5, 5)\n",
    "l1_ratios = np.linspace(0, 1, 3)\n",
    "elastic_net_sgd, preds = reg.elastic_net_sgd(alphas, l1_ratios, 5)"
   ]
  },
  {
   "cell_type": "code",
   "execution_count": 23,
   "metadata": {},
   "outputs": [
    {
     "data": {
      "image/png": "[encoded data removed]",
      "text/plain": [
       "<Figure size 432x432 with 1 Axes>"
      ]
     },
     "metadata": {
      "needs_background": "light"
     },
     "output_type": "display_data"
    },
    {
     "name": "stdout",
     "output_type": "stream",
     "text": [
      "MSE: 4.990865888262279\n",
      "MAE: 0.9716383757950982\n",
      "R^2: 0.722748323463223\n",
      "Median Absolute Error: 0.8002622158427783\n",
      "CPU times: user 8.16 s, sys: 47.1 ms, total: 8.21 s\n",
      "Wall time: 8.15 s\n"
     ]
    }
   ],
   "source": [
    "%%time\n",
    "reg.plot_residuals(preds)"
   ]
  },
  {
   "cell_type": "code",
   "execution_count": 36,
   "metadata": {},
   "outputs": [
    {
     "name": "stdout",
     "output_type": "stream",
     "text": [
      "Salnty    0.415773\n",
      "RecInd   -0.037549\n",
      "T_prec   -0.080294\n",
      "Depthm   -0.953607\n",
      "STheta   -3.465901\n",
      "dtype: float64\n",
      "Intercept   [10.75015951]\n"
     ]
    },
    {
     "data": {
      "image/png": "[encoded data removed]",
      "text/plain": [
       "<Figure size 864x648 with 1 Axes>"
      ]
     },
     "metadata": {
      "needs_background": "light"
     },
     "output_type": "display_data"
    }
   ],
   "source": [
    "reg.coefficient_plot(elastic_net_sgd)"
   ]
  },
  {
   "cell_type": "code",
   "execution_count": 25,
   "metadata": {},
   "outputs": [
    {
     "name": "stdout",
     "output_type": "stream",
     "text": [
      "-------- BEST MODEL --------\n",
      "RANSACRegressor(base_estimator=None, is_data_valid=None, is_model_valid=None,\n",
      "                loss='absolute_loss', max_skips=inf, max_trials=100,\n",
      "                min_samples=2.0, random_state=None, residual_threshold=None,\n",
      "                stop_n_inliers=inf, stop_probability=0.99, stop_score=inf)\n",
      "-------- ---------- --------\n"
     ]
    }
   ],
   "source": [
    "ransac, preds = reg.ransac(5)"
   ]
  },
  {
   "cell_type": "code",
   "execution_count": 26,
   "metadata": {},
   "outputs": [
    {
     "data": {
      "image/png": "[encoded data removed]",
      "text/plain": [
       "<Figure size 432x432 with 1 Axes>"
      ]
     },
     "metadata": {
      "needs_background": "light"
     },
     "output_type": "display_data"
    },
    {
     "name": "stdout",
     "output_type": "stream",
     "text": [
      "MSE: 10.896066762911857\n",
      "MAE: 0.258064097673485\n",
      "R^2: 0.3947036756129306\n",
      "Median Absolute Error: 0.12996810101519962\n"
     ]
    }
   ],
   "source": [
    "reg.plot_residuals(preds)"
   ]
  },
  {
   "cell_type": "code",
   "execution_count": null,
   "metadata": {},
   "outputs": [],
   "source": [
    "#no coefs with Ransac"
   ]
  },
  {
   "cell_type": "code",
   "execution_count": 30,
   "metadata": {},
   "outputs": [
    {
     "data": {
      "image/png": "[encoded data removed]",
      "text/plain": [
       "<Figure size 864x648 with 1 Axes>"
      ]
     },
     "metadata": {
      "needs_background": "light"
     },
     "output_type": "display_data"
    },
    {
     "name": "stdout",
     "output_type": "stream",
     "text": [
      "CPU times: user 7.73 s, sys: 204 ms, total: 7.94 s\n",
      "Wall time: 4.34 s\n"
     ]
    }
   ],
   "source": [
    "%%time\n",
    "reg.lasso_plot(np.logspace(-5, 1, 25))\n",
    "#without y scaled"
   ]
  },
  {
   "cell_type": "code",
   "execution_count": null,
   "metadata": {},
   "outputs": [],
   "source": []
  },
  {
   "cell_type": "markdown",
   "metadata": {},
   "source": [
    "### RANSAC - testing"
   ]
  },
  {
   "cell_type": "code",
   "execution_count": 51,
   "metadata": {},
   "outputs": [],
   "source": [
    "import seaborn as sns\n",
    "import matplotlib.pyplot as plt\n",
    "from sklearn.linear_model import RANSACRegressor, ElasticNet, SGDRegressor"
   ]
  },
  {
   "cell_type": "code",
   "execution_count": 82,
   "metadata": {},
   "outputs": [],
   "source": [
    "X = df['STheta'].values.reshape(-1, 1)\n",
    "y = df['T_degC'].values.reshape(-1, 1)"
   ]
  },
  {
   "cell_type": "code",
   "execution_count": 63,
   "metadata": {},
   "outputs": [
    {
     "data": {
      "text/plain": [
       "<seaborn.axisgrid.FacetGrid at 0x1a2522a940>"
      ]
     },
     "execution_count": 63,
     "metadata": {},
     "output_type": "execute_result"
    },
    {
     "data": {
      "image/png": "[encoded data removed]",
      "text/plain": [
       "<Figure size 360x360 with 1 Axes>"
      ]
     },
     "metadata": {
      "needs_background": "light"
     },
     "output_type": "display_data"
    }
   ],
   "source": [
    "sns.lmplot(x='STheta', y='T_degC', data=df)"
   ]
  },
  {
   "cell_type": "code",
   "execution_count": 65,
   "metadata": {},
   "outputs": [
    {
     "data": {
      "text/plain": [
       "RANSACRegressor(base_estimator=None, is_data_valid=None, is_model_valid=None,\n",
       "        loss='absolute_loss', max_skips=inf, max_trials=100,\n",
       "        min_samples=None, random_state=None, residual_threshold=None,\n",
       "        stop_n_inliers=inf, stop_probability=0.99, stop_score=inf)"
      ]
     },
     "execution_count": 65,
     "metadata": {},
     "output_type": "execute_result"
    }
   ],
   "source": [
    "ransac = RANSACRegressor()\n",
    "ransac.fit(X, y)"
   ]
  },
  {
   "cell_type": "code",
   "execution_count": 66,
   "metadata": {},
   "outputs": [
    {
     "name": "stdout",
     "output_type": "stream",
     "text": [
      "CPU times: user 1.45 s, sys: 14.5 ms, total: 1.46 s\n",
      "Wall time: 1.47 s\n"
     ]
    },
    {
     "data": {
      "image/png": "[encoded data removed]",
      "text/plain": [
       "<Figure size 432x288 with 1 Axes>"
      ]
     },
     "metadata": {
      "needs_background": "light"
     },
     "output_type": "display_data"
    }
   ],
   "source": [
    "%%time\n",
    "line_x = np.array([0, 30])\n",
    "plt.scatter(X, y)\n",
    "y_pred = ransac.predict(line_x.reshape(2, 1))\n",
    "plt.plot(line_x, y_pred, color='r')"
   ]
  },
  {
   "cell_type": "code",
   "execution_count": 23,
   "metadata": {},
   "outputs": [
    {
     "data": {
      "image/png": "[encoded data removed]",
      "text/plain": [
       "<Figure size 432x432 with 1 Axes>"
      ]
     },
     "metadata": {
      "needs_background": "light"
     },
     "output_type": "display_data"
    },
    {
     "name": "stdout",
     "output_type": "stream",
     "text": [
      "MSE: 7.6492953054592645\n",
      "MAE: 0.77516945059336\n",
      "R^2: 0.5750677346888414\n",
      "Median absolute error: 0.4960164240878049\n"
     ]
    }
   ],
   "source": [
    "reg.plot_residuals(ransac_preds.ravel())"
   ]
  },
  {
   "cell_type": "code",
   "execution_count": 96,
   "metadata": {},
   "outputs": [
    {
     "name": "stderr",
     "output_type": "stream",
     "text": [
      "/anaconda3/lib/python3.6/site-packages/sklearn/linear_model/stochastic_gradient.py:166: FutureWarning: max_iter and tol parameters have been added in SGDRegressor in 0.19. If both are left unset, they default to max_iter=5 and tol=None. If tol is not None, max_iter defaults to max_iter=1000. From 0.21, default max_iter will be 1000, and default tol will be 1e-3.\n",
      "  FutureWarning)\n",
      "/anaconda3/lib/python3.6/site-packages/sklearn/utils/validation.py:761: DataConversionWarning: A column-vector y was passed when a 1d array was expected. Please change the shape of y to (n_samples, ), for example using ravel().\n",
      "  y = column_or_1d(y, warn=True)\n"
     ]
    },
    {
     "data": {
      "text/plain": [
       "SGDRegressor(alpha=0.0001, average=False, early_stopping=False, epsilon=0.1,\n",
       "       eta0=0.01, fit_intercept=True, l1_ratio=0.15,\n",
       "       learning_rate='invscaling', loss='squared_loss', max_iter=None,\n",
       "       n_iter=None, n_iter_no_change=5, penalty='l2', power_t=0.25,\n",
       "       random_state=None, shuffle=True, tol=None, validation_fraction=0.1,\n",
       "       verbose=0, warm_start=False)"
      ]
     },
     "execution_count": 96,
     "metadata": {},
     "output_type": "execute_result"
    }
   ],
   "source": [
    "ens = SGDRegressor() #was something funky in full params causing line to be ve\n",
    "ens.fit(X, y)"
   ]
  },
  {
   "cell_type": "code",
   "execution_count": 97,
   "metadata": {},
   "outputs": [
    {
     "data": {
      "text/plain": [
       "array([5683956.9523237])"
      ]
     },
     "execution_count": 97,
     "metadata": {},
     "output_type": "execute_result"
    }
   ],
   "source": [
    "ens.coef_"
   ]
  },
  {
   "cell_type": "code",
   "execution_count": 104,
   "metadata": {},
   "outputs": [
    {
     "data": {
      "text/plain": [
       "(27, 32)"
      ]
     },
     "execution_count": 104,
     "metadata": {},
     "output_type": "execute_result"
    },
    {
     "data": {
      "image/png": "[encoded data removed]",
      "text/plain": [
       "<Figure size 432x288 with 1 Axes>"
      ]
     },
     "metadata": {
      "needs_background": "light"
     },
     "output_type": "display_data"
    }
   ],
   "source": [
    "line_x = np.array([0, 30])\n",
    "plt.scatter(X, y)\n",
    "y_pred = ens.predict(line_x.reshape(2, 1))\n",
    "plt.plot(line_x, y_pred, color='r')\n",
    "plt.yscale('log') #needed because default scale was effed up for some reason \n",
    "plt.xlim((27, 32)) #hmmmm.... ok"
   ]
  },
  {
   "cell_type": "code",
   "execution_count": null,
   "metadata": {},
   "outputs": [],
   "source": []
  },
  {
   "cell_type": "code",
   "execution_count": 11,
   "metadata": {},
   "outputs": [],
   "source": [
    "en = ElasticNet(alpha=0.464158883361278, copy_X=True, fit_intercept=True,\n",
    "      l1_ratio=0.25, max_iter=1000, normalize=False, positive=False,\n",
    "      precompute=False, random_state=None, selection='cyclic', tol=0.0001,\n",
    "      warm_start=False)\n",
    "en.fit(X, y)"
   ]
  },
  {
   "cell_type": "code",
   "execution_count": 16,
   "metadata": {},
   "outputs": [
    {
     "name": "stdout",
     "output_type": "stream",
     "text": [
      "CPU times: user 1.46 s, sys: 8.75 ms, total: 1.47 s\n",
      "Wall time: 1.47 s\n"
     ]
    },
    {
     "data": {
      "image/png": "[encoded data removed]",
      "text/plain": [
       "<Figure size 432x288 with 1 Axes>"
      ]
     },
     "metadata": {
      "needs_background": "light"
     },
     "output_type": "display_data"
    }
   ],
   "source": [
    "%%time\n",
    "line_x = np.array([0, 30])\n",
    "plt.scatter(X, y)\n",
    "y_pred = en.predict(line_x.reshape(2, 1))\n",
    "plt.plot(line_x, y_pred, color='r')"
   ]
  },
  {
   "cell_type": "code",
   "execution_count": 24,
   "metadata": {},
   "outputs": [
    {
     "data": {
      "image/png": "[encoded data removed]",
      "text/plain": [
       "<Figure size 432x432 with 1 Axes>"
      ]
     },
     "metadata": {
      "needs_background": "light"
     },
     "output_type": "display_data"
    },
    {
     "name": "stdout",
     "output_type": "stream",
     "text": [
      "MSE: 6.613309182327908\n",
      "MAE: 1.665319130389541\n",
      "R^2: 0.6326186478845899\n",
      "Median absolute error: 1.3333597187815744\n"
     ]
    }
   ],
   "source": [
    "reg.plot_residuals(en_preds.ravel()) #ravel necessary when dealing with single cols"
   ]
  },
  {
   "cell_type": "code",
   "execution_count": null,
   "metadata": {},
   "outputs": [],
   "source": []
  },
  {
   "cell_type": "code",
   "execution_count": 71,
   "metadata": {},
   "outputs": [
    {
     "name": "stdout",
     "output_type": "stream",
     "text": [
      "Estimated coefficients (true, linear regression, RANSAC):\n",
      "82.1903908407869 [54.17236387] [82.08533159]\n"
     ]
    },
    {
     "data": {
      "image/png": "[encoded data removed]",
      "text/plain": [
       "<Figure size 432x288 with 1 Axes>"
      ]
     },
     "metadata": {
      "needs_background": "light"
     },
     "output_type": "display_data"
    }
   ],
   "source": [
    "# import numpy as np\n",
    "# from matplotlib import pyplot as plt\n",
    "\n",
    "# from sklearn import linear_model, datasets\n",
    "\n",
    "\n",
    "# n_samples = 1000\n",
    "# n_outliers = 50\n",
    "\n",
    "\n",
    "# X, y, coef = datasets.make_regression(n_samples=n_samples, n_features=1,\n",
    "#                                       n_informative=1, noise=10,\n",
    "#                                       coef=True, random_state=0)\n",
    "\n",
    "# # Add outlier data\n",
    "# np.random.seed(0)\n",
    "# X[:n_outliers] = 3 + 0.5 * np.random.normal(size=(n_outliers, 1))\n",
    "# y[:n_outliers] = -3 + 10 * np.random.normal(size=n_outliers)\n",
    "\n",
    "# # Fit line using all data\n",
    "# lr = linear_model.LinearRegression()\n",
    "# lr.fit(X, y)\n",
    "\n",
    "# # Robustly fit linear model with RANSAC algorithm\n",
    "# ransac = linear_model.RANSACRegressor()\n",
    "# ransac.fit(X, y)\n",
    "# inlier_mask = ransac.inlier_mask_\n",
    "# outlier_mask = np.logical_not(inlier_mask)\n",
    "\n",
    "# # Predict data of estimated models\n",
    "# line_X = np.arange(X.min(), X.max())[:, np.newaxis]\n",
    "# line_y = lr.predict(line_X)\n",
    "# line_y_ransac = ransac.predict(line_X)\n",
    "\n",
    "# # Compare estimated coefficients\n",
    "# print(\"Estimated coefficients (true, linear regression, RANSAC):\")\n",
    "# print(coef, lr.coef_, ransac.estimator_.coef_)\n",
    "\n",
    "# lw = 2\n",
    "# plt.scatter(X[inlier_mask], y[inlier_mask], color='yellowgreen', marker='.',\n",
    "#             label='Inliers')\n",
    "# plt.scatter(X[outlier_mask], y[outlier_mask], color='gold', marker='.',\n",
    "#             label='Outliers')\n",
    "# plt.plot(line_X, line_y, color='navy', linewidth=lw, label='Linear regressor')\n",
    "# plt.plot(line_X, line_y_ransac, color='cornflowerblue', linewidth=lw,\n",
    "#          label='RANSAC regressor')\n",
    "# plt.legend(loc='lower right')\n",
    "# plt.xlabel(\"Input\")\n",
    "# plt.ylabel(\"Response\")\n",
    "# plt.show()"
   ]
  },
  {
   "cell_type": "code",
   "execution_count": 105,
   "metadata": {},
   "outputs": [
    {
     "data": {
      "text/plain": [
       "2"
      ]
     },
     "execution_count": 105,
     "metadata": {},
     "output_type": "execute_result"
    }
   ],
   "source": [
    "round(1.97)"
   ]
  },
  {
   "cell_type": "code",
   "execution_count": null,
   "metadata": {},
   "outputs": [],
   "source": []
  }
 ],
 "metadata": {
  "kernelspec": {
   "display_name": "Python 3",
   "language": "python",
   "name": "python3"
  },
  "language_info": {
   "codemirror_mode": {
    "name": "ipython",
    "version": 3
   },
   "file_extension": ".py",
   "mimetype": "text/x-python",
   "name": "python",
   "nbconvert_exporter": "python",
   "pygments_lexer": "ipython3",
   "version": "3.7.3"
  }
 },
 "nbformat": 4,
 "nbformat_minor": 4
}
