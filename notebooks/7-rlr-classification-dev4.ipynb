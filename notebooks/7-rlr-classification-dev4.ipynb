{
 "cells": [
  {
   "cell_type": "markdown",
   "metadata": {},
   "source": [
    "# Modeling profitability (binary classification) using made_money"
   ]
  },
  {
   "cell_type": "markdown",
   "metadata": {},
   "source": [
    "## Imports"
   ]
  },
  {
   "cell_type": "code",
   "execution_count": 1,
   "metadata": {},
   "outputs": [
    {
     "data": {
      "text/plain": [
       "'/Users/ryanrappa/Desktop/GoogleDrive/ds/kaggle_tools/notebooks'"
      ]
     },
     "execution_count": 1,
     "metadata": {},
     "output_type": "execute_result"
    }
   ],
   "source": [
    "pwd"
   ]
  },
  {
   "cell_type": "code",
   "execution_count": 2,
   "metadata": {},
   "outputs": [
    {
     "name": "stdout",
     "output_type": "stream",
     "text": [
      "/Users/ryanrappa/Desktop/GoogleDrive/ds/kaggle_tools\n"
     ]
    }
   ],
   "source": [
    "cd .."
   ]
  },
  {
   "cell_type": "code",
   "execution_count": 5,
   "metadata": {},
   "outputs": [],
   "source": [
    "import pandas as pd \n",
    "import matplotlib.pyplot as plt \n",
    "import numpy as np\n",
    "from sklearn.ensemble import RandomForestClassifier, GradientBoostingClassifier\n",
    "from sklearn.preprocessing import StandardScaler\n",
    "from sklearn.model_selection import StratifiedKFold, GridSearchCV, TimeSeriesSplit, RandomizedSearchCV\n",
    "\n",
    "from src.classification import Classification, ConfusionMatrix\n",
    "\n",
    "from xgboost import XGBClassifier\n",
    "import shap\n",
    "\n",
    "pd.set_option('display.max_rows', 100)\n",
    "pd.set_option('display.max_columns', 100)\n",
    "pd.set_option('display.width', 100)"
   ]
  },
  {
   "cell_type": "code",
   "execution_count": 6,
   "metadata": {},
   "outputs": [
    {
     "name": "stdout",
     "output_type": "stream",
     "text": [
      "LICENSE.md             README.md              yellowbrick-notes.pdf\n",
      "\n",
      "data:\n",
      "\u001b[31mbottle.csv\u001b[m\u001b[m*        clean_data_v3.csv  creditcard.csv\n",
      "\n",
      "notebooks:\n",
      "1-rlr-EDA-dev.ipynb              5-film-classn-ref.ipynb\n",
      "2-rlr-regression-dev.ipynb       6-rlr-classification-dev3.ipynb\n",
      "3-rlr-classification-dev1.ipynb  7-rlr-classification-dev4.ipynb\n",
      "4-rlr-classification-dev2.ipynb\n",
      "\n",
      "src:\n",
      "\u001b[34m__pycache__\u001b[m\u001b[m/       classification.py  eda.py             regression.py\n"
     ]
    }
   ],
   "source": [
    "ls *"
   ]
  },
  {
   "cell_type": "code",
   "execution_count": 7,
   "metadata": {},
   "outputs": [],
   "source": [
    "df = pd.read_csv('data/clean_data_v3.csv')"
   ]
  },
  {
   "cell_type": "code",
   "execution_count": 8,
   "metadata": {},
   "outputs": [
    {
     "data": {
      "text/html": [
       "<div>\n",
       "<style scoped>\n",
       "    .dataframe tbody tr th:only-of-type {\n",
       "        vertical-align: middle;\n",
       "    }\n",
       "\n",
       "    .dataframe tbody tr th {\n",
       "        vertical-align: top;\n",
       "    }\n",
       "\n",
       "    .dataframe thead th {\n",
       "        text-align: right;\n",
       "    }\n",
       "</style>\n",
       "<table border=\"1\" class=\"dataframe\">\n",
       "  <thead>\n",
       "    <tr style=\"text-align: right;\">\n",
       "      <th></th>\n",
       "      <th>Unnamed: 0</th>\n",
       "      <th>Unnamed: 0.1</th>\n",
       "      <th>budget</th>\n",
       "      <th>id</th>\n",
       "      <th>release_date</th>\n",
       "      <th>revenue</th>\n",
       "      <th>runtime</th>\n",
       "      <th>title</th>\n",
       "      <th>genre</th>\n",
       "      <th>profit</th>\n",
       "      <th>made_money</th>\n",
       "      <th>cast_0</th>\n",
       "      <th>cast_1</th>\n",
       "      <th>cast_2</th>\n",
       "      <th>cast_3</th>\n",
       "      <th>cast_4</th>\n",
       "      <th>director</th>\n",
       "      <th>writer</th>\n",
       "      <th>releases</th>\n",
       "      <th>cast_rev</th>\n",
       "      <th>cast_prof</th>\n",
       "      <th>cast_films</th>\n",
       "      <th>cast_prof_films</th>\n",
       "      <th>dir_rev</th>\n",
       "      <th>dir_prof</th>\n",
       "      <th>dir_films</th>\n",
       "      <th>dir_prof_films</th>\n",
       "      <th>writ_rev</th>\n",
       "      <th>writ_prof</th>\n",
       "      <th>writ_films</th>\n",
       "      <th>writ_prof_films</th>\n",
       "      <th>compet_cast_rev</th>\n",
       "      <th>compet_cast_prof</th>\n",
       "      <th>compet_cast_films</th>\n",
       "      <th>compet_cast_prof_films</th>\n",
       "      <th>compet_dir_rev</th>\n",
       "      <th>compet_dir_prof</th>\n",
       "      <th>compet_dir_films</th>\n",
       "      <th>compet_dir_prof_films</th>\n",
       "      <th>compet_writ_rev</th>\n",
       "      <th>compet_writ_prof</th>\n",
       "      <th>compet_writ_films</th>\n",
       "      <th>compet_writ_prof_films</th>\n",
       "      <th>adj_budget</th>\n",
       "      <th>cast_dir_avg_rev</th>\n",
       "      <th>month</th>\n",
       "      <th>year</th>\n",
       "      <th>decade</th>\n",
       "      <th>season</th>\n",
       "      <th>fall</th>\n",
       "      <th>spring</th>\n",
       "      <th>summer</th>\n",
       "      <th>winter</th>\n",
       "      <th>Action</th>\n",
       "      <th>Adventure</th>\n",
       "      <th>Animation</th>\n",
       "      <th>Comedy</th>\n",
       "      <th>Crime</th>\n",
       "      <th>Drama</th>\n",
       "      <th>Family</th>\n",
       "      <th>Fantasy</th>\n",
       "      <th>History</th>\n",
       "      <th>Horror</th>\n",
       "      <th>Music</th>\n",
       "      <th>Mystery</th>\n",
       "      <th>None</th>\n",
       "      <th>Romance</th>\n",
       "      <th>Science Fiction</th>\n",
       "      <th>Thriller</th>\n",
       "      <th>War</th>\n",
       "      <th>Western</th>\n",
       "      <th>compet_budget</th>\n",
       "      <th>compet_cast_dir_avg_rev</th>\n",
       "      <th>compet_adj_budget</th>\n",
       "    </tr>\n",
       "  </thead>\n",
       "  <tbody>\n",
       "    <tr>\n",
       "      <th>0</th>\n",
       "      <td>0</td>\n",
       "      <td>0</td>\n",
       "      <td>4000000.0</td>\n",
       "      <td>5</td>\n",
       "      <td>1995-12-09</td>\n",
       "      <td>4300000.0</td>\n",
       "      <td>98.0</td>\n",
       "      <td>Four Rooms</td>\n",
       "      <td>Crime</td>\n",
       "      <td>300000.0</td>\n",
       "      <td>1</td>\n",
       "      <td>Tim Roth</td>\n",
       "      <td>Antonio Banderas</td>\n",
       "      <td>Jennifer Beals</td>\n",
       "      <td>Madonna</td>\n",
       "      <td>Marisa Tomei</td>\n",
       "      <td>Allison Anders</td>\n",
       "      <td>Allison Anders</td>\n",
       "      <td>30</td>\n",
       "      <td>5.238649e+07</td>\n",
       "      <td>3.573649e+07</td>\n",
       "      <td>9.0</td>\n",
       "      <td>5.0</td>\n",
       "      <td>0.0</td>\n",
       "      <td>0.000000e+00</td>\n",
       "      <td>0.0</td>\n",
       "      <td>0.0</td>\n",
       "      <td>0.000000e+00</td>\n",
       "      <td>0.0</td>\n",
       "      <td>0.0</td>\n",
       "      <td>0.0</td>\n",
       "      <td>1.017498e+08</td>\n",
       "      <td>7.562609e+07</td>\n",
       "      <td>15.166667</td>\n",
       "      <td>9.333333</td>\n",
       "      <td>4.046212e+07</td>\n",
       "      <td>2.647601e+07</td>\n",
       "      <td>1.833333</td>\n",
       "      <td>1.000000</td>\n",
       "      <td>1.744469e+07</td>\n",
       "      <td>8.161356e+06</td>\n",
       "      <td>1.333333</td>\n",
       "      <td>0.500000</td>\n",
       "      <td>2.219325e+07</td>\n",
       "      <td>2.619325e+07</td>\n",
       "      <td>12</td>\n",
       "      <td>1995</td>\n",
       "      <td>1990</td>\n",
       "      <td>winter</td>\n",
       "      <td>0</td>\n",
       "      <td>0</td>\n",
       "      <td>0</td>\n",
       "      <td>1</td>\n",
       "      <td>0</td>\n",
       "      <td>0</td>\n",
       "      <td>0</td>\n",
       "      <td>0</td>\n",
       "      <td>1</td>\n",
       "      <td>0</td>\n",
       "      <td>0</td>\n",
       "      <td>0</td>\n",
       "      <td>0</td>\n",
       "      <td>0</td>\n",
       "      <td>0</td>\n",
       "      <td>0</td>\n",
       "      <td>0</td>\n",
       "      <td>0</td>\n",
       "      <td>0</td>\n",
       "      <td>0</td>\n",
       "      <td>0</td>\n",
       "      <td>0</td>\n",
       "      <td>3.500000e+07</td>\n",
       "      <td>7.110595e+07</td>\n",
       "      <td>3.610595e+07</td>\n",
       "    </tr>\n",
       "    <tr>\n",
       "      <th>1</th>\n",
       "      <td>1</td>\n",
       "      <td>1</td>\n",
       "      <td>11000000.0</td>\n",
       "      <td>11</td>\n",
       "      <td>1977-05-25</td>\n",
       "      <td>775398007.0</td>\n",
       "      <td>121.0</td>\n",
       "      <td>Star Wars</td>\n",
       "      <td>Adventure</td>\n",
       "      <td>764398007.0</td>\n",
       "      <td>1</td>\n",
       "      <td>Mark Hamill</td>\n",
       "      <td>Harrison Ford</td>\n",
       "      <td>Carrie Fisher</td>\n",
       "      <td>Peter Mayhew</td>\n",
       "      <td>Anthony Daniels</td>\n",
       "      <td>George Lucas</td>\n",
       "      <td>George Lucas</td>\n",
       "      <td>67</td>\n",
       "      <td>4.420000e+06</td>\n",
       "      <td>2.820000e+06</td>\n",
       "      <td>1.0</td>\n",
       "      <td>1.0</td>\n",
       "      <td>71218500.0</td>\n",
       "      <td>7.044150e+07</td>\n",
       "      <td>2.0</td>\n",
       "      <td>2.0</td>\n",
       "      <td>7.121850e+07</td>\n",
       "      <td>70441500.0</td>\n",
       "      <td>2.0</td>\n",
       "      <td>2.0</td>\n",
       "      <td>1.818402e+07</td>\n",
       "      <td>1.419652e+07</td>\n",
       "      <td>5.000000</td>\n",
       "      <td>4.000000</td>\n",
       "      <td>0.000000e+00</td>\n",
       "      <td>0.000000e+00</td>\n",
       "      <td>0.000000</td>\n",
       "      <td>0.000000</td>\n",
       "      <td>1.547333e+07</td>\n",
       "      <td>-4.526667e+06</td>\n",
       "      <td>1.000000</td>\n",
       "      <td>0.000000</td>\n",
       "      <td>2.681925e+07</td>\n",
       "      <td>3.781925e+07</td>\n",
       "      <td>5</td>\n",
       "      <td>1977</td>\n",
       "      <td>1970</td>\n",
       "      <td>summer</td>\n",
       "      <td>0</td>\n",
       "      <td>0</td>\n",
       "      <td>1</td>\n",
       "      <td>0</td>\n",
       "      <td>0</td>\n",
       "      <td>1</td>\n",
       "      <td>0</td>\n",
       "      <td>0</td>\n",
       "      <td>0</td>\n",
       "      <td>0</td>\n",
       "      <td>0</td>\n",
       "      <td>0</td>\n",
       "      <td>0</td>\n",
       "      <td>0</td>\n",
       "      <td>0</td>\n",
       "      <td>0</td>\n",
       "      <td>0</td>\n",
       "      <td>0</td>\n",
       "      <td>0</td>\n",
       "      <td>0</td>\n",
       "      <td>0</td>\n",
       "      <td>0</td>\n",
       "      <td>4.300000e+06</td>\n",
       "      <td>9.092010e+06</td>\n",
       "      <td>4.792010e+06</td>\n",
       "    </tr>\n",
       "    <tr>\n",
       "      <th>2</th>\n",
       "      <td>2</td>\n",
       "      <td>2</td>\n",
       "      <td>94000000.0</td>\n",
       "      <td>12</td>\n",
       "      <td>2003-05-30</td>\n",
       "      <td>940335536.0</td>\n",
       "      <td>100.0</td>\n",
       "      <td>Finding Nemo</td>\n",
       "      <td>Animation</td>\n",
       "      <td>846335536.0</td>\n",
       "      <td>1</td>\n",
       "      <td>Albert Brooks</td>\n",
       "      <td>Ellen DeGeneres</td>\n",
       "      <td>Alexander Gould</td>\n",
       "      <td>Willem Dafoe</td>\n",
       "      <td>Brad Garrett</td>\n",
       "      <td>Andrew Stanton</td>\n",
       "      <td>Andrew Stanton</td>\n",
       "      <td>62</td>\n",
       "      <td>6.991528e+07</td>\n",
       "      <td>4.389605e+07</td>\n",
       "      <td>15.0</td>\n",
       "      <td>9.0</td>\n",
       "      <td>0.0</td>\n",
       "      <td>0.000000e+00</td>\n",
       "      <td>0.0</td>\n",
       "      <td>0.0</td>\n",
       "      <td>4.744807e+08</td>\n",
       "      <td>366147328.0</td>\n",
       "      <td>3.0</td>\n",
       "      <td>3.0</td>\n",
       "      <td>7.257531e+07</td>\n",
       "      <td>3.761663e+07</td>\n",
       "      <td>13.600000</td>\n",
       "      <td>9.800000</td>\n",
       "      <td>3.538779e+07</td>\n",
       "      <td>2.266113e+07</td>\n",
       "      <td>1.400000</td>\n",
       "      <td>1.200000</td>\n",
       "      <td>3.469014e+07</td>\n",
       "      <td>2.580164e+07</td>\n",
       "      <td>0.700000</td>\n",
       "      <td>0.700000</td>\n",
       "      <td>-5.904236e+07</td>\n",
       "      <td>3.495764e+07</td>\n",
       "      <td>5</td>\n",
       "      <td>2003</td>\n",
       "      <td>2000</td>\n",
       "      <td>summer</td>\n",
       "      <td>0</td>\n",
       "      <td>0</td>\n",
       "      <td>1</td>\n",
       "      <td>0</td>\n",
       "      <td>0</td>\n",
       "      <td>0</td>\n",
       "      <td>1</td>\n",
       "      <td>0</td>\n",
       "      <td>0</td>\n",
       "      <td>0</td>\n",
       "      <td>0</td>\n",
       "      <td>0</td>\n",
       "      <td>0</td>\n",
       "      <td>0</td>\n",
       "      <td>0</td>\n",
       "      <td>0</td>\n",
       "      <td>0</td>\n",
       "      <td>0</td>\n",
       "      <td>0</td>\n",
       "      <td>0</td>\n",
       "      <td>0</td>\n",
       "      <td>0</td>\n",
       "      <td>3.516619e+07</td>\n",
       "      <td>5.398155e+07</td>\n",
       "      <td>1.881536e+07</td>\n",
       "    </tr>\n",
       "    <tr>\n",
       "      <th>3</th>\n",
       "      <td>3</td>\n",
       "      <td>3</td>\n",
       "      <td>55000000.0</td>\n",
       "      <td>13</td>\n",
       "      <td>1994-07-06</td>\n",
       "      <td>677945399.0</td>\n",
       "      <td>142.0</td>\n",
       "      <td>Forrest Gump</td>\n",
       "      <td>Comedy</td>\n",
       "      <td>622945399.0</td>\n",
       "      <td>1</td>\n",
       "      <td>Tom Hanks</td>\n",
       "      <td>Robin Wright</td>\n",
       "      <td>Gary Sinise</td>\n",
       "      <td>Mykelti Williamson</td>\n",
       "      <td>Sally Field</td>\n",
       "      <td>Robert Zemeckis</td>\n",
       "      <td>Eric Roth</td>\n",
       "      <td>39</td>\n",
       "      <td>5.077868e+07</td>\n",
       "      <td>3.707660e+07</td>\n",
       "      <td>14.0</td>\n",
       "      <td>12.0</td>\n",
       "      <td>192273625.0</td>\n",
       "      <td>1.551070e+08</td>\n",
       "      <td>6.0</td>\n",
       "      <td>6.0</td>\n",
       "      <td>0.000000e+00</td>\n",
       "      <td>0.0</td>\n",
       "      <td>0.0</td>\n",
       "      <td>0.0</td>\n",
       "      <td>7.807074e+07</td>\n",
       "      <td>6.059212e+07</td>\n",
       "      <td>13.142857</td>\n",
       "      <td>10.857143</td>\n",
       "      <td>4.421214e+07</td>\n",
       "      <td>3.217999e+07</td>\n",
       "      <td>1.142857</td>\n",
       "      <td>1.142857</td>\n",
       "      <td>1.145317e+08</td>\n",
       "      <td>9.707339e+07</td>\n",
       "      <td>1.571429</td>\n",
       "      <td>1.571429</td>\n",
       "      <td>6.652615e+07</td>\n",
       "      <td>1.215262e+08</td>\n",
       "      <td>7</td>\n",
       "      <td>1994</td>\n",
       "      <td>1990</td>\n",
       "      <td>summer</td>\n",
       "      <td>0</td>\n",
       "      <td>0</td>\n",
       "      <td>1</td>\n",
       "      <td>0</td>\n",
       "      <td>0</td>\n",
       "      <td>0</td>\n",
       "      <td>0</td>\n",
       "      <td>1</td>\n",
       "      <td>0</td>\n",
       "      <td>0</td>\n",
       "      <td>0</td>\n",
       "      <td>0</td>\n",
       "      <td>0</td>\n",
       "      <td>0</td>\n",
       "      <td>0</td>\n",
       "      <td>0</td>\n",
       "      <td>0</td>\n",
       "      <td>0</td>\n",
       "      <td>0</td>\n",
       "      <td>0</td>\n",
       "      <td>0</td>\n",
       "      <td>0</td>\n",
       "      <td>5.071429e+07</td>\n",
       "      <td>6.114144e+07</td>\n",
       "      <td>1.042715e+07</td>\n",
       "    </tr>\n",
       "    <tr>\n",
       "      <th>4</th>\n",
       "      <td>4</td>\n",
       "      <td>4</td>\n",
       "      <td>15000000.0</td>\n",
       "      <td>14</td>\n",
       "      <td>1999-09-15</td>\n",
       "      <td>356296601.0</td>\n",
       "      <td>122.0</td>\n",
       "      <td>American Beauty</td>\n",
       "      <td>Drama</td>\n",
       "      <td>341296601.0</td>\n",
       "      <td>1</td>\n",
       "      <td>Kevin Spacey</td>\n",
       "      <td>Annette Bening</td>\n",
       "      <td>Thora Birch</td>\n",
       "      <td>Wes Bentley</td>\n",
       "      <td>Mena Suvari</td>\n",
       "      <td>Sam Mendes</td>\n",
       "      <td>Alan Ball</td>\n",
       "      <td>54</td>\n",
       "      <td>5.776690e+07</td>\n",
       "      <td>2.069283e+07</td>\n",
       "      <td>16.0</td>\n",
       "      <td>12.0</td>\n",
       "      <td>0.0</td>\n",
       "      <td>0.000000e+00</td>\n",
       "      <td>0.0</td>\n",
       "      <td>0.0</td>\n",
       "      <td>0.000000e+00</td>\n",
       "      <td>0.0</td>\n",
       "      <td>0.0</td>\n",
       "      <td>0.0</td>\n",
       "      <td>6.881550e+07</td>\n",
       "      <td>4.022940e+07</td>\n",
       "      <td>11.666667</td>\n",
       "      <td>8.166667</td>\n",
       "      <td>1.988473e+07</td>\n",
       "      <td>8.995846e+06</td>\n",
       "      <td>0.500000</td>\n",
       "      <td>0.333333</td>\n",
       "      <td>7.765796e+07</td>\n",
       "      <td>6.334546e+07</td>\n",
       "      <td>0.666667</td>\n",
       "      <td>0.583333</td>\n",
       "      <td>1.388345e+07</td>\n",
       "      <td>2.888345e+07</td>\n",
       "      <td>9</td>\n",
       "      <td>1999</td>\n",
       "      <td>1990</td>\n",
       "      <td>fall</td>\n",
       "      <td>1</td>\n",
       "      <td>0</td>\n",
       "      <td>0</td>\n",
       "      <td>0</td>\n",
       "      <td>0</td>\n",
       "      <td>0</td>\n",
       "      <td>0</td>\n",
       "      <td>0</td>\n",
       "      <td>0</td>\n",
       "      <td>1</td>\n",
       "      <td>0</td>\n",
       "      <td>0</td>\n",
       "      <td>0</td>\n",
       "      <td>0</td>\n",
       "      <td>0</td>\n",
       "      <td>0</td>\n",
       "      <td>0</td>\n",
       "      <td>0</td>\n",
       "      <td>0</td>\n",
       "      <td>0</td>\n",
       "      <td>0</td>\n",
       "      <td>0</td>\n",
       "      <td>3.105000e+07</td>\n",
       "      <td>4.435012e+07</td>\n",
       "      <td>1.330012e+07</td>\n",
       "    </tr>\n",
       "  </tbody>\n",
       "</table>\n",
       "</div>"
      ],
      "text/plain": [
       "   Unnamed: 0  Unnamed: 0.1      budget  id release_date      revenue  runtime            title  \\\n",
       "0           0             0   4000000.0   5   1995-12-09    4300000.0     98.0       Four Rooms   \n",
       "1           1             1  11000000.0  11   1977-05-25  775398007.0    121.0        Star Wars   \n",
       "2           2             2  94000000.0  12   2003-05-30  940335536.0    100.0     Finding Nemo   \n",
       "3           3             3  55000000.0  13   1994-07-06  677945399.0    142.0     Forrest Gump   \n",
       "4           4             4  15000000.0  14   1999-09-15  356296601.0    122.0  American Beauty   \n",
       "\n",
       "       genre       profit  made_money         cast_0            cast_1           cast_2  \\\n",
       "0      Crime     300000.0           1       Tim Roth  Antonio Banderas   Jennifer Beals   \n",
       "1  Adventure  764398007.0           1    Mark Hamill     Harrison Ford    Carrie Fisher   \n",
       "2  Animation  846335536.0           1  Albert Brooks   Ellen DeGeneres  Alexander Gould   \n",
       "3     Comedy  622945399.0           1      Tom Hanks      Robin Wright      Gary Sinise   \n",
       "4      Drama  341296601.0           1   Kevin Spacey    Annette Bening      Thora Birch   \n",
       "\n",
       "               cast_3           cast_4         director          writer  releases      cast_rev  \\\n",
       "0             Madonna     Marisa Tomei   Allison Anders  Allison Anders        30  5.238649e+07   \n",
       "1        Peter Mayhew  Anthony Daniels     George Lucas    George Lucas        67  4.420000e+06   \n",
       "2        Willem Dafoe     Brad Garrett   Andrew Stanton  Andrew Stanton        62  6.991528e+07   \n",
       "3  Mykelti Williamson      Sally Field  Robert Zemeckis       Eric Roth        39  5.077868e+07   \n",
       "4         Wes Bentley      Mena Suvari       Sam Mendes       Alan Ball        54  5.776690e+07   \n",
       "\n",
       "      cast_prof  cast_films  cast_prof_films      dir_rev      dir_prof  dir_films  \\\n",
       "0  3.573649e+07         9.0              5.0          0.0  0.000000e+00        0.0   \n",
       "1  2.820000e+06         1.0              1.0   71218500.0  7.044150e+07        2.0   \n",
       "2  4.389605e+07        15.0              9.0          0.0  0.000000e+00        0.0   \n",
       "3  3.707660e+07        14.0             12.0  192273625.0  1.551070e+08        6.0   \n",
       "4  2.069283e+07        16.0             12.0          0.0  0.000000e+00        0.0   \n",
       "\n",
       "   dir_prof_films      writ_rev    writ_prof  writ_films  writ_prof_films  compet_cast_rev  \\\n",
       "0             0.0  0.000000e+00          0.0         0.0              0.0     1.017498e+08   \n",
       "1             2.0  7.121850e+07   70441500.0         2.0              2.0     1.818402e+07   \n",
       "2             0.0  4.744807e+08  366147328.0         3.0              3.0     7.257531e+07   \n",
       "3             6.0  0.000000e+00          0.0         0.0              0.0     7.807074e+07   \n",
       "4             0.0  0.000000e+00          0.0         0.0              0.0     6.881550e+07   \n",
       "\n",
       "   compet_cast_prof  compet_cast_films  compet_cast_prof_films  compet_dir_rev  compet_dir_prof  \\\n",
       "0      7.562609e+07          15.166667                9.333333    4.046212e+07     2.647601e+07   \n",
       "1      1.419652e+07           5.000000                4.000000    0.000000e+00     0.000000e+00   \n",
       "2      3.761663e+07          13.600000                9.800000    3.538779e+07     2.266113e+07   \n",
       "3      6.059212e+07          13.142857               10.857143    4.421214e+07     3.217999e+07   \n",
       "4      4.022940e+07          11.666667                8.166667    1.988473e+07     8.995846e+06   \n",
       "\n",
       "   compet_dir_films  compet_dir_prof_films  compet_writ_rev  compet_writ_prof  compet_writ_films  \\\n",
       "0          1.833333               1.000000     1.744469e+07      8.161356e+06           1.333333   \n",
       "1          0.000000               0.000000     1.547333e+07     -4.526667e+06           1.000000   \n",
       "2          1.400000               1.200000     3.469014e+07      2.580164e+07           0.700000   \n",
       "3          1.142857               1.142857     1.145317e+08      9.707339e+07           1.571429   \n",
       "4          0.500000               0.333333     7.765796e+07      6.334546e+07           0.666667   \n",
       "\n",
       "   compet_writ_prof_films    adj_budget  cast_dir_avg_rev  month  year  decade  season  fall  \\\n",
       "0                0.500000  2.219325e+07      2.619325e+07     12  1995    1990  winter     0   \n",
       "1                0.000000  2.681925e+07      3.781925e+07      5  1977    1970  summer     0   \n",
       "2                0.700000 -5.904236e+07      3.495764e+07      5  2003    2000  summer     0   \n",
       "3                1.571429  6.652615e+07      1.215262e+08      7  1994    1990  summer     0   \n",
       "4                0.583333  1.388345e+07      2.888345e+07      9  1999    1990    fall     1   \n",
       "\n",
       "   spring  summer  winter  Action  Adventure  Animation  Comedy  Crime  Drama  Family  Fantasy  \\\n",
       "0       0       0       1       0          0          0       0      1      0       0        0   \n",
       "1       0       1       0       0          1          0       0      0      0       0        0   \n",
       "2       0       1       0       0          0          1       0      0      0       0        0   \n",
       "3       0       1       0       0          0          0       1      0      0       0        0   \n",
       "4       0       0       0       0          0          0       0      0      1       0        0   \n",
       "\n",
       "   History  Horror  Music  Mystery  None  Romance  Science Fiction  Thriller  War  Western  \\\n",
       "0        0       0      0        0     0        0                0         0    0        0   \n",
       "1        0       0      0        0     0        0                0         0    0        0   \n",
       "2        0       0      0        0     0        0                0         0    0        0   \n",
       "3        0       0      0        0     0        0                0         0    0        0   \n",
       "4        0       0      0        0     0        0                0         0    0        0   \n",
       "\n",
       "   compet_budget  compet_cast_dir_avg_rev  compet_adj_budget  \n",
       "0   3.500000e+07             7.110595e+07       3.610595e+07  \n",
       "1   4.300000e+06             9.092010e+06       4.792010e+06  \n",
       "2   3.516619e+07             5.398155e+07       1.881536e+07  \n",
       "3   5.071429e+07             6.114144e+07       1.042715e+07  \n",
       "4   3.105000e+07             4.435012e+07       1.330012e+07  "
      ]
     },
     "execution_count": 8,
     "metadata": {},
     "output_type": "execute_result"
    }
   ],
   "source": [
    "df.head()"
   ]
  },
  {
   "cell_type": "markdown",
   "metadata": {},
   "source": [
    "#### **\"Adjusted budget\"** is defined as the average of the cast + director's average box office revenue to date, minus the budget of the current film they're part of. In theory this should give us some information about whether the film's budget makes sense considering the past success of the cast and director. We already have this column pertaining to films themselves, now creating it for avg competitors' adjusted budget:"
   ]
  },
  {
   "cell_type": "markdown",
   "metadata": {},
   "source": [
    "## Add made_3x col"
   ]
  },
  {
   "cell_type": "code",
   "execution_count": 9,
   "metadata": {},
   "outputs": [],
   "source": [
    "df['made_3x'] = df['revenue'] > 3*df['budget']\n",
    "df['made_3x'] = df['made_3x'].astype('int')"
   ]
  },
  {
   "cell_type": "code",
   "execution_count": 10,
   "metadata": {},
   "outputs": [
    {
     "data": {
      "text/plain": [
       "0.7013888888888888"
      ]
     },
     "execution_count": 10,
     "metadata": {},
     "output_type": "execute_result"
    }
   ],
   "source": [
    "np.mean(df['made_money'] == True)"
   ]
  },
  {
   "cell_type": "code",
   "execution_count": 11,
   "metadata": {},
   "outputs": [
    {
     "data": {
      "text/plain": [
       "0.3497222222222222"
      ]
     },
     "execution_count": 11,
     "metadata": {},
     "output_type": "execute_result"
    }
   ],
   "source": [
    "#bit of a class imbalance, but shouldn't substantially affect performance if we model on this\n",
    "np.mean(df['made_3x'] == True)"
   ]
  },
  {
   "cell_type": "markdown",
   "metadata": {},
   "source": [
    "## Adding low_budget col"
   ]
  },
  {
   "cell_type": "code",
   "execution_count": 12,
   "metadata": {},
   "outputs": [],
   "source": [
    "df['low_budget'] = df['budget'] <= 3000000\n",
    "df['low_budget'] = df['low_budget'].astype('int')"
   ]
  },
  {
   "cell_type": "code",
   "execution_count": 13,
   "metadata": {},
   "outputs": [
    {
     "data": {
      "text/html": [
       "<div>\n",
       "<style scoped>\n",
       "    .dataframe tbody tr th:only-of-type {\n",
       "        vertical-align: middle;\n",
       "    }\n",
       "\n",
       "    .dataframe tbody tr th {\n",
       "        vertical-align: top;\n",
       "    }\n",
       "\n",
       "    .dataframe thead th {\n",
       "        text-align: right;\n",
       "    }\n",
       "</style>\n",
       "<table border=\"1\" class=\"dataframe\">\n",
       "  <thead>\n",
       "    <tr style=\"text-align: right;\">\n",
       "      <th></th>\n",
       "      <th>Unnamed: 0</th>\n",
       "      <th>Unnamed: 0.1</th>\n",
       "      <th>budget</th>\n",
       "      <th>id</th>\n",
       "      <th>release_date</th>\n",
       "      <th>revenue</th>\n",
       "      <th>runtime</th>\n",
       "      <th>title</th>\n",
       "      <th>genre</th>\n",
       "      <th>profit</th>\n",
       "      <th>made_money</th>\n",
       "      <th>cast_0</th>\n",
       "      <th>cast_1</th>\n",
       "      <th>cast_2</th>\n",
       "      <th>cast_3</th>\n",
       "      <th>cast_4</th>\n",
       "      <th>director</th>\n",
       "      <th>writer</th>\n",
       "      <th>releases</th>\n",
       "      <th>cast_rev</th>\n",
       "      <th>cast_prof</th>\n",
       "      <th>cast_films</th>\n",
       "      <th>cast_prof_films</th>\n",
       "      <th>dir_rev</th>\n",
       "      <th>dir_prof</th>\n",
       "      <th>dir_films</th>\n",
       "      <th>dir_prof_films</th>\n",
       "      <th>writ_rev</th>\n",
       "      <th>writ_prof</th>\n",
       "      <th>writ_films</th>\n",
       "      <th>writ_prof_films</th>\n",
       "      <th>compet_cast_rev</th>\n",
       "      <th>compet_cast_prof</th>\n",
       "      <th>compet_cast_films</th>\n",
       "      <th>compet_cast_prof_films</th>\n",
       "      <th>compet_dir_rev</th>\n",
       "      <th>compet_dir_prof</th>\n",
       "      <th>compet_dir_films</th>\n",
       "      <th>compet_dir_prof_films</th>\n",
       "      <th>compet_writ_rev</th>\n",
       "      <th>compet_writ_prof</th>\n",
       "      <th>compet_writ_films</th>\n",
       "      <th>compet_writ_prof_films</th>\n",
       "      <th>adj_budget</th>\n",
       "      <th>cast_dir_avg_rev</th>\n",
       "      <th>month</th>\n",
       "      <th>year</th>\n",
       "      <th>decade</th>\n",
       "      <th>season</th>\n",
       "      <th>fall</th>\n",
       "      <th>spring</th>\n",
       "      <th>summer</th>\n",
       "      <th>winter</th>\n",
       "      <th>Action</th>\n",
       "      <th>Adventure</th>\n",
       "      <th>Animation</th>\n",
       "      <th>Comedy</th>\n",
       "      <th>Crime</th>\n",
       "      <th>Drama</th>\n",
       "      <th>Family</th>\n",
       "      <th>Fantasy</th>\n",
       "      <th>History</th>\n",
       "      <th>Horror</th>\n",
       "      <th>Music</th>\n",
       "      <th>Mystery</th>\n",
       "      <th>None</th>\n",
       "      <th>Romance</th>\n",
       "      <th>Science Fiction</th>\n",
       "      <th>Thriller</th>\n",
       "      <th>War</th>\n",
       "      <th>Western</th>\n",
       "      <th>compet_budget</th>\n",
       "      <th>compet_cast_dir_avg_rev</th>\n",
       "      <th>compet_adj_budget</th>\n",
       "      <th>made_3x</th>\n",
       "      <th>low_budget</th>\n",
       "    </tr>\n",
       "  </thead>\n",
       "  <tbody>\n",
       "    <tr>\n",
       "      <th>0</th>\n",
       "      <td>0</td>\n",
       "      <td>0</td>\n",
       "      <td>4000000.0</td>\n",
       "      <td>5</td>\n",
       "      <td>1995-12-09</td>\n",
       "      <td>4300000.0</td>\n",
       "      <td>98.0</td>\n",
       "      <td>Four Rooms</td>\n",
       "      <td>Crime</td>\n",
       "      <td>300000.0</td>\n",
       "      <td>1</td>\n",
       "      <td>Tim Roth</td>\n",
       "      <td>Antonio Banderas</td>\n",
       "      <td>Jennifer Beals</td>\n",
       "      <td>Madonna</td>\n",
       "      <td>Marisa Tomei</td>\n",
       "      <td>Allison Anders</td>\n",
       "      <td>Allison Anders</td>\n",
       "      <td>30</td>\n",
       "      <td>5.238649e+07</td>\n",
       "      <td>3.573649e+07</td>\n",
       "      <td>9.0</td>\n",
       "      <td>5.0</td>\n",
       "      <td>0.0</td>\n",
       "      <td>0.000000e+00</td>\n",
       "      <td>0.0</td>\n",
       "      <td>0.0</td>\n",
       "      <td>0.000000e+00</td>\n",
       "      <td>0.0</td>\n",
       "      <td>0.0</td>\n",
       "      <td>0.0</td>\n",
       "      <td>1.017498e+08</td>\n",
       "      <td>7.562609e+07</td>\n",
       "      <td>15.166667</td>\n",
       "      <td>9.333333</td>\n",
       "      <td>4.046212e+07</td>\n",
       "      <td>2.647601e+07</td>\n",
       "      <td>1.833333</td>\n",
       "      <td>1.000000</td>\n",
       "      <td>1.744469e+07</td>\n",
       "      <td>8.161356e+06</td>\n",
       "      <td>1.333333</td>\n",
       "      <td>0.500000</td>\n",
       "      <td>2.219325e+07</td>\n",
       "      <td>2.619325e+07</td>\n",
       "      <td>12</td>\n",
       "      <td>1995</td>\n",
       "      <td>1990</td>\n",
       "      <td>winter</td>\n",
       "      <td>0</td>\n",
       "      <td>0</td>\n",
       "      <td>0</td>\n",
       "      <td>1</td>\n",
       "      <td>0</td>\n",
       "      <td>0</td>\n",
       "      <td>0</td>\n",
       "      <td>0</td>\n",
       "      <td>1</td>\n",
       "      <td>0</td>\n",
       "      <td>0</td>\n",
       "      <td>0</td>\n",
       "      <td>0</td>\n",
       "      <td>0</td>\n",
       "      <td>0</td>\n",
       "      <td>0</td>\n",
       "      <td>0</td>\n",
       "      <td>0</td>\n",
       "      <td>0</td>\n",
       "      <td>0</td>\n",
       "      <td>0</td>\n",
       "      <td>0</td>\n",
       "      <td>3.500000e+07</td>\n",
       "      <td>7.110595e+07</td>\n",
       "      <td>3.610595e+07</td>\n",
       "      <td>0</td>\n",
       "      <td>0</td>\n",
       "    </tr>\n",
       "    <tr>\n",
       "      <th>1</th>\n",
       "      <td>1</td>\n",
       "      <td>1</td>\n",
       "      <td>11000000.0</td>\n",
       "      <td>11</td>\n",
       "      <td>1977-05-25</td>\n",
       "      <td>775398007.0</td>\n",
       "      <td>121.0</td>\n",
       "      <td>Star Wars</td>\n",
       "      <td>Adventure</td>\n",
       "      <td>764398007.0</td>\n",
       "      <td>1</td>\n",
       "      <td>Mark Hamill</td>\n",
       "      <td>Harrison Ford</td>\n",
       "      <td>Carrie Fisher</td>\n",
       "      <td>Peter Mayhew</td>\n",
       "      <td>Anthony Daniels</td>\n",
       "      <td>George Lucas</td>\n",
       "      <td>George Lucas</td>\n",
       "      <td>67</td>\n",
       "      <td>4.420000e+06</td>\n",
       "      <td>2.820000e+06</td>\n",
       "      <td>1.0</td>\n",
       "      <td>1.0</td>\n",
       "      <td>71218500.0</td>\n",
       "      <td>7.044150e+07</td>\n",
       "      <td>2.0</td>\n",
       "      <td>2.0</td>\n",
       "      <td>7.121850e+07</td>\n",
       "      <td>70441500.0</td>\n",
       "      <td>2.0</td>\n",
       "      <td>2.0</td>\n",
       "      <td>1.818402e+07</td>\n",
       "      <td>1.419652e+07</td>\n",
       "      <td>5.000000</td>\n",
       "      <td>4.000000</td>\n",
       "      <td>0.000000e+00</td>\n",
       "      <td>0.000000e+00</td>\n",
       "      <td>0.000000</td>\n",
       "      <td>0.000000</td>\n",
       "      <td>1.547333e+07</td>\n",
       "      <td>-4.526667e+06</td>\n",
       "      <td>1.000000</td>\n",
       "      <td>0.000000</td>\n",
       "      <td>2.681925e+07</td>\n",
       "      <td>3.781925e+07</td>\n",
       "      <td>5</td>\n",
       "      <td>1977</td>\n",
       "      <td>1970</td>\n",
       "      <td>summer</td>\n",
       "      <td>0</td>\n",
       "      <td>0</td>\n",
       "      <td>1</td>\n",
       "      <td>0</td>\n",
       "      <td>0</td>\n",
       "      <td>1</td>\n",
       "      <td>0</td>\n",
       "      <td>0</td>\n",
       "      <td>0</td>\n",
       "      <td>0</td>\n",
       "      <td>0</td>\n",
       "      <td>0</td>\n",
       "      <td>0</td>\n",
       "      <td>0</td>\n",
       "      <td>0</td>\n",
       "      <td>0</td>\n",
       "      <td>0</td>\n",
       "      <td>0</td>\n",
       "      <td>0</td>\n",
       "      <td>0</td>\n",
       "      <td>0</td>\n",
       "      <td>0</td>\n",
       "      <td>4.300000e+06</td>\n",
       "      <td>9.092010e+06</td>\n",
       "      <td>4.792010e+06</td>\n",
       "      <td>1</td>\n",
       "      <td>0</td>\n",
       "    </tr>\n",
       "    <tr>\n",
       "      <th>2</th>\n",
       "      <td>2</td>\n",
       "      <td>2</td>\n",
       "      <td>94000000.0</td>\n",
       "      <td>12</td>\n",
       "      <td>2003-05-30</td>\n",
       "      <td>940335536.0</td>\n",
       "      <td>100.0</td>\n",
       "      <td>Finding Nemo</td>\n",
       "      <td>Animation</td>\n",
       "      <td>846335536.0</td>\n",
       "      <td>1</td>\n",
       "      <td>Albert Brooks</td>\n",
       "      <td>Ellen DeGeneres</td>\n",
       "      <td>Alexander Gould</td>\n",
       "      <td>Willem Dafoe</td>\n",
       "      <td>Brad Garrett</td>\n",
       "      <td>Andrew Stanton</td>\n",
       "      <td>Andrew Stanton</td>\n",
       "      <td>62</td>\n",
       "      <td>6.991528e+07</td>\n",
       "      <td>4.389605e+07</td>\n",
       "      <td>15.0</td>\n",
       "      <td>9.0</td>\n",
       "      <td>0.0</td>\n",
       "      <td>0.000000e+00</td>\n",
       "      <td>0.0</td>\n",
       "      <td>0.0</td>\n",
       "      <td>4.744807e+08</td>\n",
       "      <td>366147328.0</td>\n",
       "      <td>3.0</td>\n",
       "      <td>3.0</td>\n",
       "      <td>7.257531e+07</td>\n",
       "      <td>3.761663e+07</td>\n",
       "      <td>13.600000</td>\n",
       "      <td>9.800000</td>\n",
       "      <td>3.538779e+07</td>\n",
       "      <td>2.266113e+07</td>\n",
       "      <td>1.400000</td>\n",
       "      <td>1.200000</td>\n",
       "      <td>3.469014e+07</td>\n",
       "      <td>2.580164e+07</td>\n",
       "      <td>0.700000</td>\n",
       "      <td>0.700000</td>\n",
       "      <td>-5.904236e+07</td>\n",
       "      <td>3.495764e+07</td>\n",
       "      <td>5</td>\n",
       "      <td>2003</td>\n",
       "      <td>2000</td>\n",
       "      <td>summer</td>\n",
       "      <td>0</td>\n",
       "      <td>0</td>\n",
       "      <td>1</td>\n",
       "      <td>0</td>\n",
       "      <td>0</td>\n",
       "      <td>0</td>\n",
       "      <td>1</td>\n",
       "      <td>0</td>\n",
       "      <td>0</td>\n",
       "      <td>0</td>\n",
       "      <td>0</td>\n",
       "      <td>0</td>\n",
       "      <td>0</td>\n",
       "      <td>0</td>\n",
       "      <td>0</td>\n",
       "      <td>0</td>\n",
       "      <td>0</td>\n",
       "      <td>0</td>\n",
       "      <td>0</td>\n",
       "      <td>0</td>\n",
       "      <td>0</td>\n",
       "      <td>0</td>\n",
       "      <td>3.516619e+07</td>\n",
       "      <td>5.398155e+07</td>\n",
       "      <td>1.881536e+07</td>\n",
       "      <td>1</td>\n",
       "      <td>0</td>\n",
       "    </tr>\n",
       "    <tr>\n",
       "      <th>3</th>\n",
       "      <td>3</td>\n",
       "      <td>3</td>\n",
       "      <td>55000000.0</td>\n",
       "      <td>13</td>\n",
       "      <td>1994-07-06</td>\n",
       "      <td>677945399.0</td>\n",
       "      <td>142.0</td>\n",
       "      <td>Forrest Gump</td>\n",
       "      <td>Comedy</td>\n",
       "      <td>622945399.0</td>\n",
       "      <td>1</td>\n",
       "      <td>Tom Hanks</td>\n",
       "      <td>Robin Wright</td>\n",
       "      <td>Gary Sinise</td>\n",
       "      <td>Mykelti Williamson</td>\n",
       "      <td>Sally Field</td>\n",
       "      <td>Robert Zemeckis</td>\n",
       "      <td>Eric Roth</td>\n",
       "      <td>39</td>\n",
       "      <td>5.077868e+07</td>\n",
       "      <td>3.707660e+07</td>\n",
       "      <td>14.0</td>\n",
       "      <td>12.0</td>\n",
       "      <td>192273625.0</td>\n",
       "      <td>1.551070e+08</td>\n",
       "      <td>6.0</td>\n",
       "      <td>6.0</td>\n",
       "      <td>0.000000e+00</td>\n",
       "      <td>0.0</td>\n",
       "      <td>0.0</td>\n",
       "      <td>0.0</td>\n",
       "      <td>7.807074e+07</td>\n",
       "      <td>6.059212e+07</td>\n",
       "      <td>13.142857</td>\n",
       "      <td>10.857143</td>\n",
       "      <td>4.421214e+07</td>\n",
       "      <td>3.217999e+07</td>\n",
       "      <td>1.142857</td>\n",
       "      <td>1.142857</td>\n",
       "      <td>1.145317e+08</td>\n",
       "      <td>9.707339e+07</td>\n",
       "      <td>1.571429</td>\n",
       "      <td>1.571429</td>\n",
       "      <td>6.652615e+07</td>\n",
       "      <td>1.215262e+08</td>\n",
       "      <td>7</td>\n",
       "      <td>1994</td>\n",
       "      <td>1990</td>\n",
       "      <td>summer</td>\n",
       "      <td>0</td>\n",
       "      <td>0</td>\n",
       "      <td>1</td>\n",
       "      <td>0</td>\n",
       "      <td>0</td>\n",
       "      <td>0</td>\n",
       "      <td>0</td>\n",
       "      <td>1</td>\n",
       "      <td>0</td>\n",
       "      <td>0</td>\n",
       "      <td>0</td>\n",
       "      <td>0</td>\n",
       "      <td>0</td>\n",
       "      <td>0</td>\n",
       "      <td>0</td>\n",
       "      <td>0</td>\n",
       "      <td>0</td>\n",
       "      <td>0</td>\n",
       "      <td>0</td>\n",
       "      <td>0</td>\n",
       "      <td>0</td>\n",
       "      <td>0</td>\n",
       "      <td>5.071429e+07</td>\n",
       "      <td>6.114144e+07</td>\n",
       "      <td>1.042715e+07</td>\n",
       "      <td>1</td>\n",
       "      <td>0</td>\n",
       "    </tr>\n",
       "    <tr>\n",
       "      <th>4</th>\n",
       "      <td>4</td>\n",
       "      <td>4</td>\n",
       "      <td>15000000.0</td>\n",
       "      <td>14</td>\n",
       "      <td>1999-09-15</td>\n",
       "      <td>356296601.0</td>\n",
       "      <td>122.0</td>\n",
       "      <td>American Beauty</td>\n",
       "      <td>Drama</td>\n",
       "      <td>341296601.0</td>\n",
       "      <td>1</td>\n",
       "      <td>Kevin Spacey</td>\n",
       "      <td>Annette Bening</td>\n",
       "      <td>Thora Birch</td>\n",
       "      <td>Wes Bentley</td>\n",
       "      <td>Mena Suvari</td>\n",
       "      <td>Sam Mendes</td>\n",
       "      <td>Alan Ball</td>\n",
       "      <td>54</td>\n",
       "      <td>5.776690e+07</td>\n",
       "      <td>2.069283e+07</td>\n",
       "      <td>16.0</td>\n",
       "      <td>12.0</td>\n",
       "      <td>0.0</td>\n",
       "      <td>0.000000e+00</td>\n",
       "      <td>0.0</td>\n",
       "      <td>0.0</td>\n",
       "      <td>0.000000e+00</td>\n",
       "      <td>0.0</td>\n",
       "      <td>0.0</td>\n",
       "      <td>0.0</td>\n",
       "      <td>6.881550e+07</td>\n",
       "      <td>4.022940e+07</td>\n",
       "      <td>11.666667</td>\n",
       "      <td>8.166667</td>\n",
       "      <td>1.988473e+07</td>\n",
       "      <td>8.995846e+06</td>\n",
       "      <td>0.500000</td>\n",
       "      <td>0.333333</td>\n",
       "      <td>7.765796e+07</td>\n",
       "      <td>6.334546e+07</td>\n",
       "      <td>0.666667</td>\n",
       "      <td>0.583333</td>\n",
       "      <td>1.388345e+07</td>\n",
       "      <td>2.888345e+07</td>\n",
       "      <td>9</td>\n",
       "      <td>1999</td>\n",
       "      <td>1990</td>\n",
       "      <td>fall</td>\n",
       "      <td>1</td>\n",
       "      <td>0</td>\n",
       "      <td>0</td>\n",
       "      <td>0</td>\n",
       "      <td>0</td>\n",
       "      <td>0</td>\n",
       "      <td>0</td>\n",
       "      <td>0</td>\n",
       "      <td>0</td>\n",
       "      <td>1</td>\n",
       "      <td>0</td>\n",
       "      <td>0</td>\n",
       "      <td>0</td>\n",
       "      <td>0</td>\n",
       "      <td>0</td>\n",
       "      <td>0</td>\n",
       "      <td>0</td>\n",
       "      <td>0</td>\n",
       "      <td>0</td>\n",
       "      <td>0</td>\n",
       "      <td>0</td>\n",
       "      <td>0</td>\n",
       "      <td>3.105000e+07</td>\n",
       "      <td>4.435012e+07</td>\n",
       "      <td>1.330012e+07</td>\n",
       "      <td>1</td>\n",
       "      <td>0</td>\n",
       "    </tr>\n",
       "  </tbody>\n",
       "</table>\n",
       "</div>"
      ],
      "text/plain": [
       "   Unnamed: 0  Unnamed: 0.1      budget  id release_date      revenue  runtime            title  \\\n",
       "0           0             0   4000000.0   5   1995-12-09    4300000.0     98.0       Four Rooms   \n",
       "1           1             1  11000000.0  11   1977-05-25  775398007.0    121.0        Star Wars   \n",
       "2           2             2  94000000.0  12   2003-05-30  940335536.0    100.0     Finding Nemo   \n",
       "3           3             3  55000000.0  13   1994-07-06  677945399.0    142.0     Forrest Gump   \n",
       "4           4             4  15000000.0  14   1999-09-15  356296601.0    122.0  American Beauty   \n",
       "\n",
       "       genre       profit  made_money         cast_0            cast_1           cast_2  \\\n",
       "0      Crime     300000.0           1       Tim Roth  Antonio Banderas   Jennifer Beals   \n",
       "1  Adventure  764398007.0           1    Mark Hamill     Harrison Ford    Carrie Fisher   \n",
       "2  Animation  846335536.0           1  Albert Brooks   Ellen DeGeneres  Alexander Gould   \n",
       "3     Comedy  622945399.0           1      Tom Hanks      Robin Wright      Gary Sinise   \n",
       "4      Drama  341296601.0           1   Kevin Spacey    Annette Bening      Thora Birch   \n",
       "\n",
       "               cast_3           cast_4         director          writer  releases      cast_rev  \\\n",
       "0             Madonna     Marisa Tomei   Allison Anders  Allison Anders        30  5.238649e+07   \n",
       "1        Peter Mayhew  Anthony Daniels     George Lucas    George Lucas        67  4.420000e+06   \n",
       "2        Willem Dafoe     Brad Garrett   Andrew Stanton  Andrew Stanton        62  6.991528e+07   \n",
       "3  Mykelti Williamson      Sally Field  Robert Zemeckis       Eric Roth        39  5.077868e+07   \n",
       "4         Wes Bentley      Mena Suvari       Sam Mendes       Alan Ball        54  5.776690e+07   \n",
       "\n",
       "      cast_prof  cast_films  cast_prof_films      dir_rev      dir_prof  dir_films  \\\n",
       "0  3.573649e+07         9.0              5.0          0.0  0.000000e+00        0.0   \n",
       "1  2.820000e+06         1.0              1.0   71218500.0  7.044150e+07        2.0   \n",
       "2  4.389605e+07        15.0              9.0          0.0  0.000000e+00        0.0   \n",
       "3  3.707660e+07        14.0             12.0  192273625.0  1.551070e+08        6.0   \n",
       "4  2.069283e+07        16.0             12.0          0.0  0.000000e+00        0.0   \n",
       "\n",
       "   dir_prof_films      writ_rev    writ_prof  writ_films  writ_prof_films  compet_cast_rev  \\\n",
       "0             0.0  0.000000e+00          0.0         0.0              0.0     1.017498e+08   \n",
       "1             2.0  7.121850e+07   70441500.0         2.0              2.0     1.818402e+07   \n",
       "2             0.0  4.744807e+08  366147328.0         3.0              3.0     7.257531e+07   \n",
       "3             6.0  0.000000e+00          0.0         0.0              0.0     7.807074e+07   \n",
       "4             0.0  0.000000e+00          0.0         0.0              0.0     6.881550e+07   \n",
       "\n",
       "   compet_cast_prof  compet_cast_films  compet_cast_prof_films  compet_dir_rev  compet_dir_prof  \\\n",
       "0      7.562609e+07          15.166667                9.333333    4.046212e+07     2.647601e+07   \n",
       "1      1.419652e+07           5.000000                4.000000    0.000000e+00     0.000000e+00   \n",
       "2      3.761663e+07          13.600000                9.800000    3.538779e+07     2.266113e+07   \n",
       "3      6.059212e+07          13.142857               10.857143    4.421214e+07     3.217999e+07   \n",
       "4      4.022940e+07          11.666667                8.166667    1.988473e+07     8.995846e+06   \n",
       "\n",
       "   compet_dir_films  compet_dir_prof_films  compet_writ_rev  compet_writ_prof  compet_writ_films  \\\n",
       "0          1.833333               1.000000     1.744469e+07      8.161356e+06           1.333333   \n",
       "1          0.000000               0.000000     1.547333e+07     -4.526667e+06           1.000000   \n",
       "2          1.400000               1.200000     3.469014e+07      2.580164e+07           0.700000   \n",
       "3          1.142857               1.142857     1.145317e+08      9.707339e+07           1.571429   \n",
       "4          0.500000               0.333333     7.765796e+07      6.334546e+07           0.666667   \n",
       "\n",
       "   compet_writ_prof_films    adj_budget  cast_dir_avg_rev  month  year  decade  season  fall  \\\n",
       "0                0.500000  2.219325e+07      2.619325e+07     12  1995    1990  winter     0   \n",
       "1                0.000000  2.681925e+07      3.781925e+07      5  1977    1970  summer     0   \n",
       "2                0.700000 -5.904236e+07      3.495764e+07      5  2003    2000  summer     0   \n",
       "3                1.571429  6.652615e+07      1.215262e+08      7  1994    1990  summer     0   \n",
       "4                0.583333  1.388345e+07      2.888345e+07      9  1999    1990    fall     1   \n",
       "\n",
       "   spring  summer  winter  Action  Adventure  Animation  Comedy  Crime  Drama  Family  Fantasy  \\\n",
       "0       0       0       1       0          0          0       0      1      0       0        0   \n",
       "1       0       1       0       0          1          0       0      0      0       0        0   \n",
       "2       0       1       0       0          0          1       0      0      0       0        0   \n",
       "3       0       1       0       0          0          0       1      0      0       0        0   \n",
       "4       0       0       0       0          0          0       0      0      1       0        0   \n",
       "\n",
       "   History  Horror  Music  Mystery  None  Romance  Science Fiction  Thriller  War  Western  \\\n",
       "0        0       0      0        0     0        0                0         0    0        0   \n",
       "1        0       0      0        0     0        0                0         0    0        0   \n",
       "2        0       0      0        0     0        0                0         0    0        0   \n",
       "3        0       0      0        0     0        0                0         0    0        0   \n",
       "4        0       0      0        0     0        0                0         0    0        0   \n",
       "\n",
       "   compet_budget  compet_cast_dir_avg_rev  compet_adj_budget  made_3x  low_budget  \n",
       "0   3.500000e+07             7.110595e+07       3.610595e+07        0           0  \n",
       "1   4.300000e+06             9.092010e+06       4.792010e+06        1           0  \n",
       "2   3.516619e+07             5.398155e+07       1.881536e+07        1           0  \n",
       "3   5.071429e+07             6.114144e+07       1.042715e+07        1           0  \n",
       "4   3.105000e+07             4.435012e+07       1.330012e+07        1           0  "
      ]
     },
     "execution_count": 13,
     "metadata": {},
     "output_type": "execute_result"
    }
   ],
   "source": [
    "df.head()"
   ]
  },
  {
   "cell_type": "code",
   "execution_count": 14,
   "metadata": {},
   "outputs": [
    {
     "name": "stdout",
     "output_type": "stream",
     "text": [
      "<class 'pandas.core.frame.DataFrame'>\n",
      "RangeIndex: 3600 entries, 0 to 3599\n",
      "Data columns (total 76 columns):\n",
      "Unnamed: 0                 3600 non-null int64\n",
      "Unnamed: 0.1               3600 non-null int64\n",
      "budget                     3600 non-null float64\n",
      "id                         3600 non-null int64\n",
      "release_date               3600 non-null object\n",
      "revenue                    3600 non-null float64\n",
      "runtime                    3600 non-null float64\n",
      "title                      3600 non-null object\n",
      "genre                      3600 non-null object\n",
      "profit                     3600 non-null float64\n",
      "made_money                 3600 non-null int64\n",
      "cast_0                     3600 non-null object\n",
      "cast_1                     3600 non-null object\n",
      "cast_2                     3600 non-null object\n",
      "cast_3                     3600 non-null object\n",
      "cast_4                     3600 non-null object\n",
      "director                   3600 non-null object\n",
      "writer                     3600 non-null object\n",
      "releases                   3600 non-null int64\n",
      "cast_rev                   3600 non-null float64\n",
      "cast_prof                  3600 non-null float64\n",
      "cast_films                 3600 non-null float64\n",
      "cast_prof_films            3600 non-null float64\n",
      "dir_rev                    3600 non-null float64\n",
      "dir_prof                   3600 non-null float64\n",
      "dir_films                  3600 non-null float64\n",
      "dir_prof_films             3600 non-null float64\n",
      "writ_rev                   3600 non-null float64\n",
      "writ_prof                  3600 non-null float64\n",
      "writ_films                 3600 non-null float64\n",
      "writ_prof_films            3600 non-null float64\n",
      "compet_cast_rev            3600 non-null float64\n",
      "compet_cast_prof           3600 non-null float64\n",
      "compet_cast_films          3600 non-null float64\n",
      "compet_cast_prof_films     3600 non-null float64\n",
      "compet_dir_rev             3600 non-null float64\n",
      "compet_dir_prof            3600 non-null float64\n",
      "compet_dir_films           3600 non-null float64\n",
      "compet_dir_prof_films      3600 non-null float64\n",
      "compet_writ_rev            3600 non-null float64\n",
      "compet_writ_prof           3600 non-null float64\n",
      "compet_writ_films          3600 non-null float64\n",
      "compet_writ_prof_films     3600 non-null float64\n",
      "adj_budget                 3600 non-null float64\n",
      "cast_dir_avg_rev           3600 non-null float64\n",
      "month                      3600 non-null int64\n",
      "year                       3600 non-null int64\n",
      "decade                     3600 non-null int64\n",
      "season                     3600 non-null object\n",
      "fall                       3600 non-null int64\n",
      "spring                     3600 non-null int64\n",
      "summer                     3600 non-null int64\n",
      "winter                     3600 non-null int64\n",
      "Action                     3600 non-null int64\n",
      "Adventure                  3600 non-null int64\n",
      "Animation                  3600 non-null int64\n",
      "Comedy                     3600 non-null int64\n",
      "Crime                      3600 non-null int64\n",
      "Drama                      3600 non-null int64\n",
      "Family                     3600 non-null int64\n",
      "Fantasy                    3600 non-null int64\n",
      "History                    3600 non-null int64\n",
      "Horror                     3600 non-null int64\n",
      "Music                      3600 non-null int64\n",
      "Mystery                    3600 non-null int64\n",
      "None                       3600 non-null int64\n",
      "Romance                    3600 non-null int64\n",
      "Science Fiction            3600 non-null int64\n",
      "Thriller                   3600 non-null int64\n",
      "War                        3600 non-null int64\n",
      "Western                    3600 non-null int64\n",
      "compet_budget              3600 non-null float64\n",
      "compet_cast_dir_avg_rev    3600 non-null float64\n",
      "compet_adj_budget          3600 non-null float64\n",
      "made_3x                    3600 non-null int64\n",
      "low_budget                 3600 non-null int64\n",
      "dtypes: float64(33), int64(32), object(11)\n",
      "memory usage: 2.1+ MB\n"
     ]
    }
   ],
   "source": [
    "df.info()"
   ]
  },
  {
   "cell_type": "code",
   "execution_count": 15,
   "metadata": {},
   "outputs": [
    {
     "data": {
      "text/plain": [
       "Index(['Unnamed: 0', 'Unnamed: 0.1', 'budget', 'id', 'release_date', 'revenue', 'runtime', 'title',\n",
       "       'genre', 'profit', 'made_money', 'cast_0', 'cast_1', 'cast_2', 'cast_3', 'cast_4',\n",
       "       'director', 'writer', 'releases', 'cast_rev', 'cast_prof', 'cast_films', 'cast_prof_films',\n",
       "       'dir_rev', 'dir_prof', 'dir_films', 'dir_prof_films', 'writ_rev', 'writ_prof', 'writ_films',\n",
       "       'writ_prof_films', 'compet_cast_rev', 'compet_cast_prof', 'compet_cast_films',\n",
       "       'compet_cast_prof_films', 'compet_dir_rev', 'compet_dir_prof', 'compet_dir_films',\n",
       "       'compet_dir_prof_films', 'compet_writ_rev', 'compet_writ_prof', 'compet_writ_films',\n",
       "       'compet_writ_prof_films', 'adj_budget', 'cast_dir_avg_rev', 'month', 'year', 'decade',\n",
       "       'season', 'fall', 'spring', 'summer', 'winter', 'Action', 'Adventure', 'Animation',\n",
       "       'Comedy', 'Crime', 'Drama', 'Family', 'Fantasy', 'History', 'Horror', 'Music', 'Mystery',\n",
       "       'None', 'Romance', 'Science Fiction', 'Thriller', 'War', 'Western', 'compet_budget',\n",
       "       'compet_cast_dir_avg_rev', 'compet_adj_budget', 'made_3x', 'low_budget'],\n",
       "      dtype='object')"
      ]
     },
     "execution_count": 15,
     "metadata": {},
     "output_type": "execute_result"
    }
   ],
   "source": [
    "df.columns"
   ]
  },
  {
   "cell_type": "markdown",
   "metadata": {},
   "source": [
    "## Sort data by date"
   ]
  },
  {
   "cell_type": "code",
   "execution_count": 20,
   "metadata": {},
   "outputs": [],
   "source": [
    "df = df.sort_values('release_date')"
   ]
  },
  {
   "cell_type": "code",
   "execution_count": 23,
   "metadata": {},
   "outputs": [
    {
     "data": {
      "text/html": [
       "<div>\n",
       "<style scoped>\n",
       "    .dataframe tbody tr th:only-of-type {\n",
       "        vertical-align: middle;\n",
       "    }\n",
       "\n",
       "    .dataframe tbody tr th {\n",
       "        vertical-align: top;\n",
       "    }\n",
       "\n",
       "    .dataframe thead th {\n",
       "        text-align: right;\n",
       "    }\n",
       "</style>\n",
       "<table border=\"1\" class=\"dataframe\">\n",
       "  <thead>\n",
       "    <tr style=\"text-align: right;\">\n",
       "      <th></th>\n",
       "      <th>Unnamed: 0</th>\n",
       "      <th>Unnamed: 0.1</th>\n",
       "      <th>budget</th>\n",
       "      <th>id</th>\n",
       "      <th>release_date</th>\n",
       "      <th>revenue</th>\n",
       "      <th>runtime</th>\n",
       "      <th>title</th>\n",
       "      <th>genre</th>\n",
       "      <th>profit</th>\n",
       "      <th>made_money</th>\n",
       "      <th>cast_0</th>\n",
       "      <th>cast_1</th>\n",
       "      <th>cast_2</th>\n",
       "      <th>cast_3</th>\n",
       "      <th>cast_4</th>\n",
       "      <th>director</th>\n",
       "      <th>writer</th>\n",
       "      <th>releases</th>\n",
       "      <th>cast_rev</th>\n",
       "      <th>cast_prof</th>\n",
       "      <th>cast_films</th>\n",
       "      <th>cast_prof_films</th>\n",
       "      <th>dir_rev</th>\n",
       "      <th>dir_prof</th>\n",
       "      <th>dir_films</th>\n",
       "      <th>dir_prof_films</th>\n",
       "      <th>writ_rev</th>\n",
       "      <th>writ_prof</th>\n",
       "      <th>writ_films</th>\n",
       "      <th>writ_prof_films</th>\n",
       "      <th>compet_cast_rev</th>\n",
       "      <th>compet_cast_prof</th>\n",
       "      <th>compet_cast_films</th>\n",
       "      <th>compet_cast_prof_films</th>\n",
       "      <th>compet_dir_rev</th>\n",
       "      <th>compet_dir_prof</th>\n",
       "      <th>compet_dir_films</th>\n",
       "      <th>compet_dir_prof_films</th>\n",
       "      <th>compet_writ_rev</th>\n",
       "      <th>compet_writ_prof</th>\n",
       "      <th>compet_writ_films</th>\n",
       "      <th>compet_writ_prof_films</th>\n",
       "      <th>adj_budget</th>\n",
       "      <th>cast_dir_avg_rev</th>\n",
       "      <th>month</th>\n",
       "      <th>year</th>\n",
       "      <th>decade</th>\n",
       "      <th>season</th>\n",
       "      <th>fall</th>\n",
       "      <th>spring</th>\n",
       "      <th>summer</th>\n",
       "      <th>winter</th>\n",
       "      <th>Action</th>\n",
       "      <th>Adventure</th>\n",
       "      <th>Animation</th>\n",
       "      <th>Comedy</th>\n",
       "      <th>Crime</th>\n",
       "      <th>Drama</th>\n",
       "      <th>Family</th>\n",
       "      <th>Fantasy</th>\n",
       "      <th>History</th>\n",
       "      <th>Horror</th>\n",
       "      <th>Music</th>\n",
       "      <th>Mystery</th>\n",
       "      <th>None</th>\n",
       "      <th>Romance</th>\n",
       "      <th>Science Fiction</th>\n",
       "      <th>Thriller</th>\n",
       "      <th>War</th>\n",
       "      <th>Western</th>\n",
       "      <th>compet_budget</th>\n",
       "      <th>compet_cast_dir_avg_rev</th>\n",
       "      <th>compet_adj_budget</th>\n",
       "      <th>made_3x</th>\n",
       "      <th>low_budget</th>\n",
       "    </tr>\n",
       "  </thead>\n",
       "  <tbody>\n",
       "    <tr>\n",
       "      <th>3517</th>\n",
       "      <td>3517</td>\n",
       "      <td>3517</td>\n",
       "      <td>42000000.0</td>\n",
       "      <td>426563</td>\n",
       "      <td>2018-12-25</td>\n",
       "      <td>40462793.0</td>\n",
       "      <td>90.0</td>\n",
       "      <td>Holmes &amp; Watson</td>\n",
       "      <td>Mystery</td>\n",
       "      <td>-1537207.0</td>\n",
       "      <td>0</td>\n",
       "      <td>Will Ferrell</td>\n",
       "      <td>John C. Reilly</td>\n",
       "      <td>Rebecca Hall</td>\n",
       "      <td>Ralph Fiennes</td>\n",
       "      <td>Hugh Laurie</td>\n",
       "      <td>Etan Cohen</td>\n",
       "      <td>Etan Cohen</td>\n",
       "      <td>17</td>\n",
       "      <td>2.257616e+08</td>\n",
       "      <td>1.515874e+08</td>\n",
       "      <td>67.0</td>\n",
       "      <td>53.0</td>\n",
       "      <td>1.118115e+08</td>\n",
       "      <td>7.181145e+07</td>\n",
       "      <td>1.0</td>\n",
       "      <td>1.0</td>\n",
       "      <td>613963565.0</td>\n",
       "      <td>426463565.0</td>\n",
       "      <td>2.0</td>\n",
       "      <td>2.0</td>\n",
       "      <td>1.265104e+08</td>\n",
       "      <td>8.130527e+07</td>\n",
       "      <td>44.0</td>\n",
       "      <td>34.0</td>\n",
       "      <td>2.643849e+08</td>\n",
       "      <td>1.586974e+08</td>\n",
       "      <td>4.0</td>\n",
       "      <td>3.5</td>\n",
       "      <td>344610398.0</td>\n",
       "      <td>268860398.0</td>\n",
       "      <td>2.0</td>\n",
       "      <td>2.0</td>\n",
       "      <td>1.267865e+08</td>\n",
       "      <td>1.687865e+08</td>\n",
       "      <td>12</td>\n",
       "      <td>2018</td>\n",
       "      <td>2010</td>\n",
       "      <td>winter</td>\n",
       "      <td>0</td>\n",
       "      <td>0</td>\n",
       "      <td>0</td>\n",
       "      <td>1</td>\n",
       "      <td>0</td>\n",
       "      <td>0</td>\n",
       "      <td>0</td>\n",
       "      <td>0</td>\n",
       "      <td>0</td>\n",
       "      <td>0</td>\n",
       "      <td>0</td>\n",
       "      <td>0</td>\n",
       "      <td>0</td>\n",
       "      <td>0</td>\n",
       "      <td>0</td>\n",
       "      <td>1</td>\n",
       "      <td>0</td>\n",
       "      <td>0</td>\n",
       "      <td>0</td>\n",
       "      <td>0</td>\n",
       "      <td>0</td>\n",
       "      <td>0</td>\n",
       "      <td>95000000.0</td>\n",
       "      <td>1.954476e+08</td>\n",
       "      <td>1.004476e+08</td>\n",
       "      <td>0</td>\n",
       "      <td>0</td>\n",
       "    </tr>\n",
       "    <tr>\n",
       "      <th>3539</th>\n",
       "      <td>3539</td>\n",
       "      <td>3539</td>\n",
       "      <td>37500000.0</td>\n",
       "      <td>440472</td>\n",
       "      <td>2019-01-10</td>\n",
       "      <td>111353135.0</td>\n",
       "      <td>123.0</td>\n",
       "      <td>The Upside</td>\n",
       "      <td>Comedy</td>\n",
       "      <td>73853135.0</td>\n",
       "      <td>1</td>\n",
       "      <td>Kevin Hart</td>\n",
       "      <td>Bryan Cranston</td>\n",
       "      <td>Nicole Kidman</td>\n",
       "      <td>Julianna Margulies</td>\n",
       "      <td>Aja Naomi King</td>\n",
       "      <td>Neil Burger</td>\n",
       "      <td>Jon Hartmere</td>\n",
       "      <td>13</td>\n",
       "      <td>1.000618e+08</td>\n",
       "      <td>6.608987e+07</td>\n",
       "      <td>55.0</td>\n",
       "      <td>43.0</td>\n",
       "      <td>1.618495e+08</td>\n",
       "      <td>1.348495e+08</td>\n",
       "      <td>1.0</td>\n",
       "      <td>1.0</td>\n",
       "      <td>0.0</td>\n",
       "      <td>0.0</td>\n",
       "      <td>0.0</td>\n",
       "      <td>0.0</td>\n",
       "      <td>1.288633e+08</td>\n",
       "      <td>8.680120e+07</td>\n",
       "      <td>81.0</td>\n",
       "      <td>60.0</td>\n",
       "      <td>2.339860e+08</td>\n",
       "      <td>1.602717e+08</td>\n",
       "      <td>7.0</td>\n",
       "      <td>6.0</td>\n",
       "      <td>242254630.5</td>\n",
       "      <td>161129630.5</td>\n",
       "      <td>8.0</td>\n",
       "      <td>7.0</td>\n",
       "      <td>9.345563e+07</td>\n",
       "      <td>1.309556e+08</td>\n",
       "      <td>1</td>\n",
       "      <td>2019</td>\n",
       "      <td>2010</td>\n",
       "      <td>spring</td>\n",
       "      <td>0</td>\n",
       "      <td>1</td>\n",
       "      <td>0</td>\n",
       "      <td>0</td>\n",
       "      <td>0</td>\n",
       "      <td>0</td>\n",
       "      <td>0</td>\n",
       "      <td>1</td>\n",
       "      <td>0</td>\n",
       "      <td>0</td>\n",
       "      <td>0</td>\n",
       "      <td>0</td>\n",
       "      <td>0</td>\n",
       "      <td>0</td>\n",
       "      <td>0</td>\n",
       "      <td>0</td>\n",
       "      <td>0</td>\n",
       "      <td>0</td>\n",
       "      <td>0</td>\n",
       "      <td>0</td>\n",
       "      <td>0</td>\n",
       "      <td>0</td>\n",
       "      <td>20000000.0</td>\n",
       "      <td>1.814246e+08</td>\n",
       "      <td>1.614246e+08</td>\n",
       "      <td>0</td>\n",
       "      <td>0</td>\n",
       "    </tr>\n",
       "    <tr>\n",
       "      <th>3556</th>\n",
       "      <td>3556</td>\n",
       "      <td>3556</td>\n",
       "      <td>20000000.0</td>\n",
       "      <td>450465</td>\n",
       "      <td>2019-01-16</td>\n",
       "      <td>243765250.0</td>\n",
       "      <td>129.0</td>\n",
       "      <td>Glass</td>\n",
       "      <td>Thriller</td>\n",
       "      <td>223765250.0</td>\n",
       "      <td>1</td>\n",
       "      <td>James McAvoy</td>\n",
       "      <td>Bruce Willis</td>\n",
       "      <td>Samuel L. Jackson</td>\n",
       "      <td>Anya Taylor-Joy</td>\n",
       "      <td>Sarah Paulson</td>\n",
       "      <td>M. Night Shyamalan</td>\n",
       "      <td>M. Night Shyamalan</td>\n",
       "      <td>29</td>\n",
       "      <td>1.288633e+08</td>\n",
       "      <td>8.680120e+07</td>\n",
       "      <td>81.0</td>\n",
       "      <td>60.0</td>\n",
       "      <td>2.339860e+08</td>\n",
       "      <td>1.602717e+08</td>\n",
       "      <td>7.0</td>\n",
       "      <td>6.0</td>\n",
       "      <td>242254630.5</td>\n",
       "      <td>161129630.5</td>\n",
       "      <td>8.0</td>\n",
       "      <td>7.0</td>\n",
       "      <td>1.000618e+08</td>\n",
       "      <td>6.608987e+07</td>\n",
       "      <td>55.0</td>\n",
       "      <td>43.0</td>\n",
       "      <td>1.618495e+08</td>\n",
       "      <td>1.348495e+08</td>\n",
       "      <td>1.0</td>\n",
       "      <td>1.0</td>\n",
       "      <td>0.0</td>\n",
       "      <td>0.0</td>\n",
       "      <td>0.0</td>\n",
       "      <td>0.0</td>\n",
       "      <td>1.614246e+08</td>\n",
       "      <td>1.814246e+08</td>\n",
       "      <td>1</td>\n",
       "      <td>2019</td>\n",
       "      <td>2010</td>\n",
       "      <td>spring</td>\n",
       "      <td>0</td>\n",
       "      <td>1</td>\n",
       "      <td>0</td>\n",
       "      <td>0</td>\n",
       "      <td>0</td>\n",
       "      <td>0</td>\n",
       "      <td>0</td>\n",
       "      <td>0</td>\n",
       "      <td>0</td>\n",
       "      <td>0</td>\n",
       "      <td>0</td>\n",
       "      <td>0</td>\n",
       "      <td>0</td>\n",
       "      <td>0</td>\n",
       "      <td>0</td>\n",
       "      <td>0</td>\n",
       "      <td>0</td>\n",
       "      <td>0</td>\n",
       "      <td>0</td>\n",
       "      <td>1</td>\n",
       "      <td>0</td>\n",
       "      <td>0</td>\n",
       "      <td>37500000.0</td>\n",
       "      <td>1.309556e+08</td>\n",
       "      <td>9.345563e+07</td>\n",
       "      <td>1</td>\n",
       "      <td>0</td>\n",
       "    </tr>\n",
       "    <tr>\n",
       "      <th>3195</th>\n",
       "      <td>3195</td>\n",
       "      <td>3195</td>\n",
       "      <td>152000000.0</td>\n",
       "      <td>299537</td>\n",
       "      <td>2019-03-06</td>\n",
       "      <td>910298835.0</td>\n",
       "      <td>124.0</td>\n",
       "      <td>Captain Marvel</td>\n",
       "      <td>Action</td>\n",
       "      <td>758298835.0</td>\n",
       "      <td>1</td>\n",
       "      <td>Brie Larson</td>\n",
       "      <td>Samuel L. Jackson</td>\n",
       "      <td>Jude Law</td>\n",
       "      <td>Ben Mendelsohn</td>\n",
       "      <td>Annette Bening</td>\n",
       "      <td>Ryan Fleck</td>\n",
       "      <td>Geneva Robertson-Dworet</td>\n",
       "      <td>31</td>\n",
       "      <td>1.811165e+08</td>\n",
       "      <td>1.186573e+08</td>\n",
       "      <td>72.0</td>\n",
       "      <td>52.0</td>\n",
       "      <td>0.000000e+00</td>\n",
       "      <td>0.000000e+00</td>\n",
       "      <td>0.0</td>\n",
       "      <td>0.0</td>\n",
       "      <td>274650803.0</td>\n",
       "      <td>180650803.0</td>\n",
       "      <td>1.0</td>\n",
       "      <td>1.0</td>\n",
       "      <td>2.586218e+08</td>\n",
       "      <td>2.146552e+08</td>\n",
       "      <td>4.0</td>\n",
       "      <td>2.0</td>\n",
       "      <td>2.550173e+08</td>\n",
       "      <td>2.505173e+08</td>\n",
       "      <td>1.0</td>\n",
       "      <td>1.0</td>\n",
       "      <td>255017329.0</td>\n",
       "      <td>250517329.0</td>\n",
       "      <td>1.0</td>\n",
       "      <td>1.0</td>\n",
       "      <td>-6.144174e+07</td>\n",
       "      <td>9.055826e+07</td>\n",
       "      <td>3</td>\n",
       "      <td>2019</td>\n",
       "      <td>2010</td>\n",
       "      <td>spring</td>\n",
       "      <td>0</td>\n",
       "      <td>1</td>\n",
       "      <td>0</td>\n",
       "      <td>0</td>\n",
       "      <td>1</td>\n",
       "      <td>0</td>\n",
       "      <td>0</td>\n",
       "      <td>0</td>\n",
       "      <td>0</td>\n",
       "      <td>0</td>\n",
       "      <td>0</td>\n",
       "      <td>0</td>\n",
       "      <td>0</td>\n",
       "      <td>0</td>\n",
       "      <td>0</td>\n",
       "      <td>0</td>\n",
       "      <td>0</td>\n",
       "      <td>0</td>\n",
       "      <td>0</td>\n",
       "      <td>0</td>\n",
       "      <td>0</td>\n",
       "      <td>0</td>\n",
       "      <td>20000000.0</td>\n",
       "      <td>2.568196e+08</td>\n",
       "      <td>2.368196e+08</td>\n",
       "      <td>1</td>\n",
       "      <td>0</td>\n",
       "    </tr>\n",
       "    <tr>\n",
       "      <th>3568</th>\n",
       "      <td>3568</td>\n",
       "      <td>3568</td>\n",
       "      <td>20000000.0</td>\n",
       "      <td>458723</td>\n",
       "      <td>2019-03-14</td>\n",
       "      <td>107058805.0</td>\n",
       "      <td>116.0</td>\n",
       "      <td>Us</td>\n",
       "      <td>Thriller</td>\n",
       "      <td>87058805.0</td>\n",
       "      <td>1</td>\n",
       "      <td>Lupita Nyong'o</td>\n",
       "      <td>Winston Duke</td>\n",
       "      <td>Elisabeth Moss</td>\n",
       "      <td>Tim Heidecker</td>\n",
       "      <td>Shahadi Wright Joseph</td>\n",
       "      <td>Jordan Peele</td>\n",
       "      <td>Jordan Peele</td>\n",
       "      <td>36</td>\n",
       "      <td>2.586218e+08</td>\n",
       "      <td>2.146552e+08</td>\n",
       "      <td>4.0</td>\n",
       "      <td>2.0</td>\n",
       "      <td>2.550173e+08</td>\n",
       "      <td>2.505173e+08</td>\n",
       "      <td>1.0</td>\n",
       "      <td>1.0</td>\n",
       "      <td>255017329.0</td>\n",
       "      <td>250517329.0</td>\n",
       "      <td>1.0</td>\n",
       "      <td>1.0</td>\n",
       "      <td>1.811165e+08</td>\n",
       "      <td>1.186573e+08</td>\n",
       "      <td>72.0</td>\n",
       "      <td>52.0</td>\n",
       "      <td>0.000000e+00</td>\n",
       "      <td>0.000000e+00</td>\n",
       "      <td>0.0</td>\n",
       "      <td>0.0</td>\n",
       "      <td>274650803.0</td>\n",
       "      <td>180650803.0</td>\n",
       "      <td>1.0</td>\n",
       "      <td>1.0</td>\n",
       "      <td>2.368196e+08</td>\n",
       "      <td>2.568196e+08</td>\n",
       "      <td>3</td>\n",
       "      <td>2019</td>\n",
       "      <td>2010</td>\n",
       "      <td>spring</td>\n",
       "      <td>0</td>\n",
       "      <td>1</td>\n",
       "      <td>0</td>\n",
       "      <td>0</td>\n",
       "      <td>0</td>\n",
       "      <td>0</td>\n",
       "      <td>0</td>\n",
       "      <td>0</td>\n",
       "      <td>0</td>\n",
       "      <td>0</td>\n",
       "      <td>0</td>\n",
       "      <td>0</td>\n",
       "      <td>0</td>\n",
       "      <td>0</td>\n",
       "      <td>0</td>\n",
       "      <td>0</td>\n",
       "      <td>0</td>\n",
       "      <td>0</td>\n",
       "      <td>0</td>\n",
       "      <td>1</td>\n",
       "      <td>0</td>\n",
       "      <td>0</td>\n",
       "      <td>152000000.0</td>\n",
       "      <td>9.055826e+07</td>\n",
       "      <td>-6.144174e+07</td>\n",
       "      <td>1</td>\n",
       "      <td>0</td>\n",
       "    </tr>\n",
       "  </tbody>\n",
       "</table>\n",
       "</div>"
      ],
      "text/plain": [
       "      Unnamed: 0  Unnamed: 0.1       budget      id release_date      revenue  runtime  \\\n",
       "3517        3517          3517   42000000.0  426563   2018-12-25   40462793.0     90.0   \n",
       "3539        3539          3539   37500000.0  440472   2019-01-10  111353135.0    123.0   \n",
       "3556        3556          3556   20000000.0  450465   2019-01-16  243765250.0    129.0   \n",
       "3195        3195          3195  152000000.0  299537   2019-03-06  910298835.0    124.0   \n",
       "3568        3568          3568   20000000.0  458723   2019-03-14  107058805.0    116.0   \n",
       "\n",
       "                title     genre       profit  made_money          cast_0             cast_1  \\\n",
       "3517  Holmes & Watson   Mystery   -1537207.0           0    Will Ferrell     John C. Reilly   \n",
       "3539       The Upside    Comedy   73853135.0           1      Kevin Hart     Bryan Cranston   \n",
       "3556            Glass  Thriller  223765250.0           1    James McAvoy       Bruce Willis   \n",
       "3195   Captain Marvel    Action  758298835.0           1     Brie Larson  Samuel L. Jackson   \n",
       "3568               Us  Thriller   87058805.0           1  Lupita Nyong'o       Winston Duke   \n",
       "\n",
       "                 cast_2              cast_3                 cast_4            director  \\\n",
       "3517       Rebecca Hall       Ralph Fiennes            Hugh Laurie          Etan Cohen   \n",
       "3539      Nicole Kidman  Julianna Margulies         Aja Naomi King         Neil Burger   \n",
       "3556  Samuel L. Jackson     Anya Taylor-Joy          Sarah Paulson  M. Night Shyamalan   \n",
       "3195           Jude Law      Ben Mendelsohn         Annette Bening          Ryan Fleck   \n",
       "3568     Elisabeth Moss       Tim Heidecker  Shahadi Wright Joseph        Jordan Peele   \n",
       "\n",
       "                       writer  releases      cast_rev     cast_prof  cast_films  cast_prof_films  \\\n",
       "3517               Etan Cohen        17  2.257616e+08  1.515874e+08        67.0             53.0   \n",
       "3539             Jon Hartmere        13  1.000618e+08  6.608987e+07        55.0             43.0   \n",
       "3556       M. Night Shyamalan        29  1.288633e+08  8.680120e+07        81.0             60.0   \n",
       "3195  Geneva Robertson-Dworet        31  1.811165e+08  1.186573e+08        72.0             52.0   \n",
       "3568             Jordan Peele        36  2.586218e+08  2.146552e+08         4.0              2.0   \n",
       "\n",
       "           dir_rev      dir_prof  dir_films  dir_prof_films     writ_rev    writ_prof  writ_films  \\\n",
       "3517  1.118115e+08  7.181145e+07        1.0             1.0  613963565.0  426463565.0         2.0   \n",
       "3539  1.618495e+08  1.348495e+08        1.0             1.0          0.0          0.0         0.0   \n",
       "3556  2.339860e+08  1.602717e+08        7.0             6.0  242254630.5  161129630.5         8.0   \n",
       "3195  0.000000e+00  0.000000e+00        0.0             0.0  274650803.0  180650803.0         1.0   \n",
       "3568  2.550173e+08  2.505173e+08        1.0             1.0  255017329.0  250517329.0         1.0   \n",
       "\n",
       "      writ_prof_films  compet_cast_rev  compet_cast_prof  compet_cast_films  \\\n",
       "3517              2.0     1.265104e+08      8.130527e+07               44.0   \n",
       "3539              0.0     1.288633e+08      8.680120e+07               81.0   \n",
       "3556              7.0     1.000618e+08      6.608987e+07               55.0   \n",
       "3195              1.0     2.586218e+08      2.146552e+08                4.0   \n",
       "3568              1.0     1.811165e+08      1.186573e+08               72.0   \n",
       "\n",
       "      compet_cast_prof_films  compet_dir_rev  compet_dir_prof  compet_dir_films  \\\n",
       "3517                    34.0    2.643849e+08     1.586974e+08               4.0   \n",
       "3539                    60.0    2.339860e+08     1.602717e+08               7.0   \n",
       "3556                    43.0    1.618495e+08     1.348495e+08               1.0   \n",
       "3195                     2.0    2.550173e+08     2.505173e+08               1.0   \n",
       "3568                    52.0    0.000000e+00     0.000000e+00               0.0   \n",
       "\n",
       "      compet_dir_prof_films  compet_writ_rev  compet_writ_prof  compet_writ_films  \\\n",
       "3517                    3.5      344610398.0       268860398.0                2.0   \n",
       "3539                    6.0      242254630.5       161129630.5                8.0   \n",
       "3556                    1.0              0.0               0.0                0.0   \n",
       "3195                    1.0      255017329.0       250517329.0                1.0   \n",
       "3568                    0.0      274650803.0       180650803.0                1.0   \n",
       "\n",
       "      compet_writ_prof_films    adj_budget  cast_dir_avg_rev  month  year  decade  season  fall  \\\n",
       "3517                     2.0  1.267865e+08      1.687865e+08     12  2018    2010  winter     0   \n",
       "3539                     7.0  9.345563e+07      1.309556e+08      1  2019    2010  spring     0   \n",
       "3556                     0.0  1.614246e+08      1.814246e+08      1  2019    2010  spring     0   \n",
       "3195                     1.0 -6.144174e+07      9.055826e+07      3  2019    2010  spring     0   \n",
       "3568                     1.0  2.368196e+08      2.568196e+08      3  2019    2010  spring     0   \n",
       "\n",
       "      spring  summer  winter  Action  Adventure  Animation  Comedy  Crime  Drama  Family  Fantasy  \\\n",
       "3517       0       0       1       0          0          0       0      0      0       0        0   \n",
       "3539       1       0       0       0          0          0       1      0      0       0        0   \n",
       "3556       1       0       0       0          0          0       0      0      0       0        0   \n",
       "3195       1       0       0       1          0          0       0      0      0       0        0   \n",
       "3568       1       0       0       0          0          0       0      0      0       0        0   \n",
       "\n",
       "      History  Horror  Music  Mystery  None  Romance  Science Fiction  Thriller  War  Western  \\\n",
       "3517        0       0      0        1     0        0                0         0    0        0   \n",
       "3539        0       0      0        0     0        0                0         0    0        0   \n",
       "3556        0       0      0        0     0        0                0         1    0        0   \n",
       "3195        0       0      0        0     0        0                0         0    0        0   \n",
       "3568        0       0      0        0     0        0                0         1    0        0   \n",
       "\n",
       "      compet_budget  compet_cast_dir_avg_rev  compet_adj_budget  made_3x  low_budget  \n",
       "3517     95000000.0             1.954476e+08       1.004476e+08        0           0  \n",
       "3539     20000000.0             1.814246e+08       1.614246e+08        0           0  \n",
       "3556     37500000.0             1.309556e+08       9.345563e+07        1           0  \n",
       "3195     20000000.0             2.568196e+08       2.368196e+08        1           0  \n",
       "3568    152000000.0             9.055826e+07      -6.144174e+07        1           0  "
      ]
     },
     "execution_count": 23,
     "metadata": {},
     "output_type": "execute_result"
    }
   ],
   "source": [
    "df.tail()"
   ]
  },
  {
   "cell_type": "markdown",
   "metadata": {},
   "source": [
    "## Drop non-numerical, unnecessary, and unreasonable assumption cols"
   ]
  },
  {
   "cell_type": "code",
   "execution_count": 24,
   "metadata": {},
   "outputs": [
    {
     "name": "stdout",
     "output_type": "stream",
     "text": [
      "(3600, 40)\n",
      "(3600,)\n",
      "0.7013888888888888\n"
     ]
    }
   ],
   "source": [
    "X_cols = ['budget',\n",
    "          'runtime', \n",
    "          'releases', \n",
    "          'cast_rev', \n",
    "          'cast_prof', \n",
    "          'cast_films', \n",
    "          'cast_prof_films', \n",
    "          'dir_rev',\n",
    "          'dir_prof', \n",
    "          'dir_films', \n",
    "          'dir_prof_films', \n",
    "          'writ_rev', \n",
    "          'writ_prof', \n",
    "          'writ_films', \n",
    "          'writ_prof_films', \n",
    "          'adj_budget',\n",
    "          'cast_dir_avg_rev',\n",
    "          'fall', 'spring', 'summer', 'winter',\n",
    "          'Action', 'Adventure', 'Animation', 'Comedy', 'Crime', 'Drama', 'Family', 'Fantasy', 'History', 'Horror', 'Music', 'Mystery', 'None', 'Romance', 'Science Fiction', 'Thriller', 'War', 'Western',\n",
    "          'low_budget']\n",
    "\n",
    "\n",
    "# y_col = 'made_3x'\n",
    "y_col = 'made_money'\n",
    "\n",
    "X = df.loc[:, X_cols].values\n",
    "y = df.loc[:, y_col].values.ravel()\n",
    "#need to use ravel for y array to be correct shape for analysis, \n",
    "#otherwise np.mean(y_pred == y_test) does not work properly later\n",
    "\n",
    "print(X.shape)\n",
    "print(y.shape)\n",
    "\n",
    "print(np.mean(y == 1))"
   ]
  },
  {
   "cell_type": "markdown",
   "metadata": {},
   "source": [
    "## Trying SGDClassifier (had issues with plain elastic net)"
   ]
  },
  {
   "cell_type": "code",
   "execution_count": 19,
   "metadata": {},
   "outputs": [],
   "source": [
    "clf = Classification(df, X_cols, y_col)"
   ]
  },
  {
   "cell_type": "code",
   "execution_count": 20,
   "metadata": {},
   "outputs": [
    {
     "name": "stdout",
     "output_type": "stream",
     "text": [
      "-------- BEST MODEL --------\n",
      "SGDClassifier(alpha=0.0031622776601683794, average=False, class_weight=None,\n",
      "              early_stopping=False, epsilon=0.1, eta0=0.0, fit_intercept=True,\n",
      "              l1_ratio=0, learning_rate='optimal', loss='log', max_iter=1000,\n",
      "              n_iter_no_change=5, n_jobs=-1, penalty='elasticnet', power_t=0.5,\n",
      "              random_state=None, shuffle=True, tol=0.001,\n",
      "              validation_fraction=0.1, verbose=0, warm_start=False)\n",
      "-------- ---------- --------\n",
      "CPU times: user 1.07 s, sys: 69.3 ms, total: 1.13 s\n",
      "Wall time: 7.64 s\n"
     ]
    }
   ],
   "source": [
    "%%time\n",
    "alphas = np.logspace(-3, 1, 25)\n",
    "l1_ratios = [0, .5, 1]\n",
    "folds = 5\n",
    "model, preds = clf.elastic_net_sgd(alphas, l1_ratios, folds)"
   ]
  },
  {
   "cell_type": "code",
   "execution_count": 21,
   "metadata": {},
   "outputs": [
    {
     "name": "stdout",
     "output_type": "stream",
     "text": [
      "releases            1.110691\n",
      "cast_prof_films     0.525127\n",
      "cast_prof           0.444502\n",
      "dir_prof_films      0.324547\n",
      "dir_prof            0.234756\n",
      "low_budget          0.208099\n",
      "writ_prof_films     0.184198\n",
      "summer              0.180927\n",
      "Comedy              0.150486\n",
      "dir_rev             0.132054\n",
      "Horror              0.118568\n",
      "runtime             0.098538\n",
      "Family              0.088001\n",
      "Animation           0.078786\n",
      "History             0.063762\n",
      "Music               0.058706\n",
      "Western             0.052282\n",
      "winter              0.049582\n",
      "Science Fiction     0.017639\n",
      "writ_rev            0.015487\n",
      "writ_prof           0.015465\n",
      "Crime               0.000944\n",
      "spring             -0.013359\n",
      "budget             -0.027850\n",
      "Thriller           -0.030079\n",
      "Romance            -0.038548\n",
      "Mystery            -0.039858\n",
      "None               -0.043386\n",
      "Fantasy            -0.045560\n",
      "Adventure          -0.049929\n",
      "Action             -0.093857\n",
      "War                -0.095731\n",
      "Drama              -0.107969\n",
      "cast_dir_avg_rev   -0.132403\n",
      "adj_budget         -0.137750\n",
      "writ_films         -0.158314\n",
      "fall               -0.200416\n",
      "dir_films          -0.305845\n",
      "cast_rev           -0.441024\n",
      "cast_films         -0.649852\n",
      "dtype: float64\n",
      "Intercept   [1.16079646]\n",
      "CPU times: user 84.9 ms, sys: 2.91 ms, total: 87.8 ms\n",
      "Wall time: 86.7 ms\n"
     ]
    },
    {
     "data": {
      "image/png": "[encoded data removed]",
      "text/plain": [
       "<Figure size 864x648 with 1 Axes>"
      ]
     },
     "metadata": {
      "needs_background": "light"
     },
     "output_type": "display_data"
    }
   ],
   "source": [
    "%%time\n",
    "clf.coefficient_plot(model)"
   ]
  },
  {
   "cell_type": "markdown",
   "metadata": {},
   "source": [
    "### Evaluation metrics"
   ]
  },
  {
   "cell_type": "code",
   "execution_count": 22,
   "metadata": {},
   "outputs": [
    {
     "data": {
      "image/png": "[encoded data removed]",
      "text/plain": [
       "<Figure size 432x288 with 2 Axes>"
      ]
     },
     "metadata": {
      "needs_background": "light"
     },
     "output_type": "display_data"
    },
    {
     "name": "stdout",
     "output_type": "stream",
     "text": [
      "Accuracy =      0.743\n",
      "Precision =     0.760\n",
      "Recall (TPR) =  0.926\n",
      "Fallout (FPR) = 0.685\n",
      "\n",
      "---- Classification Report ----\n",
      "              precision    recall  f1-score   support\n",
      "\n",
      "           0       0.64      0.32      0.42      1075\n",
      "           1       0.76      0.93      0.83      2525\n",
      "\n",
      "    accuracy                           0.74      3600\n",
      "   macro avg       0.70      0.62      0.63      3600\n",
      "weighted avg       0.73      0.74      0.71      3600\n",
      "\n"
     ]
    }
   ],
   "source": [
    "cm = ConfusionMatrix(y, preds, model)\n",
    "cm.plot_matrix()"
   ]
  },
  {
   "cell_type": "code",
   "execution_count": 24,
   "metadata": {},
   "outputs": [
    {
     "data": {
      "image/png": "[encoded data removed]",
      "text/plain": [
       "<Figure size 576x432 with 1 Axes>"
      ]
     },
     "metadata": {
      "needs_background": "light"
     },
     "output_type": "display_data"
    },
    {
     "name": "stdout",
     "output_type": "stream",
     "text": [
      "Best ratio w/ TPR > .5: 3.1172186184135655\n",
      "    Decision threshold: 0.7632363677781884\n",
      "                   TPR: 0.5045544554455446\n",
      "                   FPR: 0.16186046511627908\n",
      "CPU times: user 275 ms, sys: 6.36 ms, total: 281 ms\n",
      "Wall time: 196 ms\n"
     ]
    },
    {
     "name": "stderr",
     "output_type": "stream",
     "text": [
      "/Users/ryanrappa/Desktop/GoogleDrive/ds/kaggle_tools/src/classification.py:229: RuntimeWarning: invalid value encountered in double_scalars\n",
      "  if tp/fp > best_ratio and tp > 0.5:\n",
      "/Users/ryanrappa/Desktop/GoogleDrive/ds/kaggle_tools/src/classification.py:229: RuntimeWarning: divide by zero encountered in double_scalars\n",
      "  if tp/fp > best_ratio and tp > 0.5:\n"
     ]
    }
   ],
   "source": [
    "%%time\n",
    "clf.roc_curve(model)"
   ]
  },
  {
   "cell_type": "code",
   "execution_count": 25,
   "metadata": {},
   "outputs": [
    {
     "data": {
      "image/png": "[encoded data removed]",
      "text/plain": [
       "<Figure size 576x432 with 1 Axes>"
      ]
     },
     "metadata": {
      "needs_background": "light"
     },
     "output_type": "display_data"
    },
    {
     "name": "stdout",
     "output_type": "stream",
     "text": [
      "P/R ratio closest to 1: 0.9996041171813143\n",
      "    Decision threshold: 0.6069515177952478\n",
      "             Precision: 0.8091844813935075\n",
      "                Recall: 0.8095049504950496\n",
      "CPU times: user 289 ms, sys: 6.13 ms, total: 295 ms\n",
      "Wall time: 175 ms\n"
     ]
    }
   ],
   "source": [
    "%%time\n",
    "clf.pr_curve(model)"
   ]
  },
  {
   "cell_type": "code",
   "execution_count": 26,
   "metadata": {},
   "outputs": [
    {
     "data": {
      "image/png": "[encoded data removed]",
      "text/plain": [
       "<Figure size 576x432 with 1 Axes>"
      ]
     },
     "metadata": {
      "needs_background": "light"
     },
     "output_type": "display_data"
    },
    {
     "name": "stdout",
     "output_type": "stream",
     "text": [
      "Estimated max avg profit: 4675224.72\n",
      "      Decision threshold: 0.6225\n"
     ]
    }
   ],
   "source": [
    "#assign costs / benefits\n",
    "cost_bene = {\n",
    "'tp': 13945744,     #median profit of profitable movies / 3 (divided by 3 to be more conservative)\n",
    "'fp': -24599094,    #median loss of unprofitable movies x 3 (multip. by 3 to be more conservative)\n",
    "'tn': 0,            #not making an unprofitable movie costs us nothing (could also consider opp. cost)\n",
    "'fn': 0 }           #not making a profitable movie costs us nothing (could also consider opp. cost)\n",
    "\n",
    "thresholds = np.linspace(.01, .99, 25)\n",
    "\n",
    "clf.profit_curve(thresholds, model, cost_bene)"
   ]
  },
  {
   "cell_type": "markdown",
   "metadata": {},
   "source": [
    "## Robust feature importances"
   ]
  },
  {
   "cell_type": "code",
   "execution_count": 23,
   "metadata": {},
   "outputs": [
    {
     "name": "stderr",
     "output_type": "stream",
     "text": [
      "//anaconda3/lib/python3.7/site-packages/sklearn/linear_model/sag.py:337: ConvergenceWarning: The max_iter was reached which means the coef_ did not converge\n",
      "  \"the coef_ did not converge\", ConvergenceWarning)\n"
     ]
    },
    {
     "data": {
      "image/png": "[encoded data removed]",
      "text/plain": [
       "<Figure size 864x648 with 1 Axes>"
      ]
     },
     "metadata": {
      "needs_background": "light"
     },
     "output_type": "display_data"
    },
    {
     "name": "stdout",
     "output_type": "stream",
     "text": [
      "CPU times: user 14.3 s, sys: 127 ms, total: 14.4 s\n",
      "Wall time: 14.7 s\n"
     ]
    }
   ],
   "source": [
    "%%time\n",
    "clf.lasso_plot(np.logspace(2, -3, 25))"
   ]
  },
  {
   "cell_type": "markdown",
   "metadata": {},
   "source": [
    "## So SGD Logistic Reg. isn't great, let's try Gradient boosting"
   ]
  },
  {
   "cell_type": "code",
   "execution_count": 28,
   "metadata": {},
   "outputs": [],
   "source": [
    "params = {\n",
    "        'eta': [0.0001, 0.001, 0.01, 0.1, 0.2, 0.3], #equiv. to learning rate/shrinkage\n",
    "        'n_estimators': [100, 200, 300, 400, 500, 1000]\n",
    "#         'min_child_weight': [1, 5, 10],\n",
    "#         'gamma': [0.5, 1, 1.5, 2, 5],\n",
    "#         'subsample': [0.6, 0.8, 1.0],\n",
    "#         'colsample_bytree': [0.6, 0.8, 1.0],\n",
    "#         'max_depth': [3, 4, 5]\n",
    "        }"
   ]
  },
  {
   "cell_type": "code",
   "execution_count": 25,
   "metadata": {},
   "outputs": [],
   "source": [
    "def xgboost(parameters, folds, X, y, n_iter=32, **kwargs): \n",
    "    #modify and add this + time series version to classification class\n",
    "    '''\n",
    "    Runs parallelized BayesSearchCV for optimal gradient\n",
    "    boosted (xgboost) model over the specified parameters.\n",
    "\n",
    "    Notes:\n",
    "        ~in progress~\n",
    "\n",
    "    Args:\n",
    "        parameters\n",
    "        folds (int): Number of folds to use in cross validation.\n",
    "        X\n",
    "        y\n",
    "        n_iter\n",
    "        all kwargs: \n",
    "\n",
    "    Returns:\n",
    "        model (obj): BayesSearchCV optimized gradient boost model.\n",
    "        preds (np array): Predicted values of target.\n",
    "\n",
    "    Raises:\n",
    "        ~in progress~\n",
    "\n",
    "    Example:\n",
    "        parameters = ###\n",
    "        folds = 5\n",
    "        model, preds = clf.xgboost(parameters, folds)\n",
    "\n",
    "    '''\n",
    "    xgb = XGBClassifier(nthread=1) #default scoring is logistic loss\n",
    "    model = RandomizedSearchCV(xgb, parameters, cv=folds, n_jobs=-1, n_iter=n_iter, **kwargs) \n",
    "    model.fit(X, y)\n",
    "    preds = model.predict(X)\n",
    "    print(\"-------- BEST MODEL --------\")\n",
    "    print(model.best_estimator_)\n",
    "    print(\"-------- ---------- --------\")\n",
    "    return model, preds"
   ]
  },
  {
   "cell_type": "code",
   "execution_count": 31,
   "metadata": {},
   "outputs": [
    {
     "name": "stdout",
     "output_type": "stream",
     "text": [
      "-------- BEST MODEL --------\n",
      "XGBClassifier(base_score=0.5, booster='gbtree', colsample_bylevel=1,\n",
      "              colsample_bynode=1, colsample_bytree=1, eta=0.2, gamma=0,\n",
      "              learning_rate=0.1, max_delta_step=0, max_depth=3,\n",
      "              min_child_weight=1, missing=None, n_estimators=100, n_jobs=1,\n",
      "              nthread=1, objective='binary:logistic', random_state=0,\n",
      "              reg_alpha=0, reg_lambda=1, scale_pos_weight=1, seed=None,\n",
      "              silent=None, subsample=1, verbosity=1)\n",
      "-------- ---------- --------\n",
      "CPU times: user 1.45 s, sys: 64 ms, total: 1.51 s\n",
      "Wall time: 3min 47s\n"
     ]
    }
   ],
   "source": [
    "%%time\n",
    "model, preds = xgboost(params, 5)"
   ]
  },
  {
   "cell_type": "code",
   "execution_count": 33,
   "metadata": {},
   "outputs": [
    {
     "data": {
      "image/png": "[encoded data removed]",
      "text/plain": [
       "<Figure size 576x432 with 1 Axes>"
      ]
     },
     "metadata": {
      "needs_background": "light"
     },
     "output_type": "display_data"
    },
    {
     "name": "stdout",
     "output_type": "stream",
     "text": [
      "P/R ratio closest to 1: 0.9043696275071632\n",
      "    Decision threshold: 0.7656716\n",
      "             Precision: 0.6966332378223495\n",
      "                Recall: 0.7702970297029703\n"
     ]
    }
   ],
   "source": [
    "clf.pr_curve(model)"
   ]
  },
  {
   "cell_type": "code",
   "execution_count": 34,
   "metadata": {},
   "outputs": [
    {
     "data": {
      "image/png": "[encoded data removed]",
      "text/plain": [
       "<Figure size 576x432 with 1 Axes>"
      ]
     },
     "metadata": {
      "needs_background": "light"
     },
     "output_type": "display_data"
    },
    {
     "name": "stdout",
     "output_type": "stream",
     "text": [
      "Estimated max avg profit: 2435827.097222222\n",
      "      Decision threshold: 0.01\n"
     ]
    }
   ],
   "source": [
    "clf.profit_curve(thresholds, model, cost_bene)"
   ]
  },
  {
   "cell_type": "code",
   "execution_count": 36,
   "metadata": {},
   "outputs": [
    {
     "data": {
      "image/png": "[encoded data removed]",
      "text/plain": [
       "<Figure size 432x288 with 2 Axes>"
      ]
     },
     "metadata": {
      "needs_background": "light"
     },
     "output_type": "display_data"
    },
    {
     "name": "stdout",
     "output_type": "stream",
     "text": [
      "Accuracy =      0.713\n",
      "Precision =     0.916\n",
      "Recall (TPR) =  0.650\n",
      "Fallout (FPR) = 0.140\n",
      "\n",
      "---- Classification Report ----\n",
      "              precision    recall  f1-score   support\n",
      "\n",
      "           0       0.51      0.86      0.64      1075\n",
      "           1       0.92      0.65      0.76      2525\n",
      "\n",
      "    accuracy                           0.71      3600\n",
      "   macro avg       0.71      0.75      0.70      3600\n",
      "weighted avg       0.80      0.71      0.72      3600\n",
      "\n"
     ]
    }
   ],
   "source": [
    "preds_75 = (model.predict_proba(X)[:,1] >= 0.75).astype(bool)\n",
    "\n",
    "cm = ConfusionMatrix(y, preds_75, model)\n",
    "cm.plot_matrix()"
   ]
  },
  {
   "cell_type": "code",
   "execution_count": 37,
   "metadata": {},
   "outputs": [
    {
     "data": {
      "image/png": "[encoded data removed]",
      "text/plain": [
       "<Figure size 576x684 with 1 Axes>"
      ]
     },
     "metadata": {
      "needs_background": "light"
     },
     "output_type": "display_data"
    }
   ],
   "source": [
    "explainer = shap.TreeExplainer(model.best_estimator_)\n",
    "shap_values = explainer.shap_values(X)\n",
    "shap.summary_plot(shap_values, X, plot_type=\"bar\", feature_names=X_cols)"
   ]
  },
  {
   "cell_type": "markdown",
   "metadata": {},
   "source": [
    "### XGBoost - training and checking performance with held out test set"
   ]
  },
  {
   "cell_type": "code",
   "execution_count": 39,
   "metadata": {},
   "outputs": [],
   "source": [
    "#train-test split with scaled data - avoiding data leakage by scaling train and test sets separately\n",
    "scaler = StandardScaler()\n",
    "skf = StratifiedKFold(n_splits = 5, shuffle = True)\n",
    "for train_index, test_index in skf.split(X, y):\n",
    "    X_train, y_train = scaler.fit(X[train_index]).transform(X[train_index]), y[train_index]\n",
    "    X_test, y_test = scaler.fit(X[test_index]).transform(X[test_index]), y[test_index]\n",
    "    break"
   ]
  },
  {
   "cell_type": "code",
   "execution_count": 40,
   "metadata": {},
   "outputs": [
    {
     "name": "stdout",
     "output_type": "stream",
     "text": [
      "-------- BEST MODEL --------\n",
      "XGBClassifier(base_score=0.5, booster='gbtree', colsample_bylevel=1,\n",
      "              colsample_bynode=1, colsample_bytree=1, eta=0.2, gamma=0,\n",
      "              learning_rate=0.1, max_delta_step=0, max_depth=3,\n",
      "              min_child_weight=1, missing=None, n_estimators=100, n_jobs=1,\n",
      "              nthread=1, objective='binary:logistic', random_state=0,\n",
      "              reg_alpha=0, reg_lambda=1, scale_pos_weight=1, seed=None,\n",
      "              silent=None, subsample=1, verbosity=1)\n",
      "-------- ---------- --------\n",
      "CPU times: user 1.4 s, sys: 140 ms, total: 1.54 s\n",
      "Wall time: 3min 10s\n"
     ]
    }
   ],
   "source": [
    "%%time\n",
    "model, preds = xgboost(params, 5, X_train, y_train)"
   ]
  },
  {
   "cell_type": "code",
   "execution_count": 180,
   "metadata": {},
   "outputs": [
    {
     "data": {
      "image/png": "[encoded data removed]",
      "text/plain": [
       "<Figure size 432x288 with 2 Axes>"
      ]
     },
     "metadata": {
      "needs_background": "light"
     },
     "output_type": "display_data"
    },
    {
     "name": "stdout",
     "output_type": "stream",
     "text": [
      "Accuracy =      0.701\n",
      "Precision =     0.861\n",
      "Recall (TPR) =  0.685\n",
      "Fallout (FPR) = 0.260\n",
      "\n",
      "---- Classification Report ----\n",
      "              precision    recall  f1-score   support\n",
      "\n",
      "           0       0.50      0.74      0.60       215\n",
      "           1       0.86      0.69      0.76       505\n",
      "\n",
      "    accuracy                           0.70       720\n",
      "   macro avg       0.68      0.71      0.68       720\n",
      "weighted avg       0.75      0.70      0.71       720\n",
      "\n"
     ]
    }
   ],
   "source": [
    "test_preds = model.predict(X_test)\n",
    "test_preds_75 = (model.predict_proba(X_test)[:,1] >= 0.74).astype(bool)\n",
    "\n",
    "cm = ConfusionMatrix(y_test, test_preds_75, model)\n",
    "cm.plot_matrix()"
   ]
  },
  {
   "cell_type": "code",
   "execution_count": 115,
   "metadata": {},
   "outputs": [
    {
     "data": {
      "text/plain": [
       "0.809375"
      ]
     },
     "execution_count": 115,
     "metadata": {},
     "output_type": "execute_result"
    }
   ],
   "source": [
    "np.mean(preds == 1)"
   ]
  },
  {
   "cell_type": "code",
   "execution_count": 229,
   "metadata": {},
   "outputs": [],
   "source": [
    "def profit_estimator(df, model, X_cols, sample_size=5, num_samples=5000):\n",
    "    '''\n",
    "    '''\n",
    "    profits = []\n",
    "    for s in range(num_samples):\n",
    "        profit = 0\n",
    "        sample_idxs = df[X_cols].sample(n=sample_size).index.tolist()\n",
    "        X = df[X_cols].loc[sample_idxs, :].values\n",
    "        X_scaled = scaler.fit(X).transform(X)\n",
    "        preds = model.predict(X)\n",
    "        pred_df = df.loc[sample_idxs, :]\n",
    "        pred_df['pred_profit'] = preds\n",
    "        for idx in sample_idxs:\n",
    "            if pred_df.loc[idx, 'pred_profit'] == 0:\n",
    "                continue\n",
    "            else:\n",
    "                profit += pred_df.loc[idx, 'profit']\n",
    "        profits.append(profit)\n",
    "        \n",
    "    print(\"mean:\", np.mean(profits), \" median:\", np.median(profits), \" min:\", min(profits), \" max:\", max(profits), \" st dev:\", np.std(profits))\n",
    "    \n",
    "    #add historgram for simulated returns\n",
    "    \n",
    "    return np.mean(profits), np.median(profits), min(profits), max(profits), np.std(profits), profits"
   ]
  },
  {
   "cell_type": "code",
   "execution_count": 230,
   "metadata": {},
   "outputs": [
    {
     "name": "stdout",
     "output_type": "stream",
     "text": [
      "mean: 349911188.0012  median: 249624704.5  min: -112041877.0  max: 3763979894.0  st dev: 350008338.55516\n"
     ]
    }
   ],
   "source": [
    "mean, med, min_, max_, std, arr = profit_estimator(df, model, X_cols, sample_size=5)"
   ]
  },
  {
   "cell_type": "code",
   "execution_count": 234,
   "metadata": {},
   "outputs": [
    {
     "data": {
      "image/png": "[encoded data removed]",
      "text/plain": [
       "<Figure size 1080x648 with 1 Axes>"
      ]
     },
     "metadata": {},
     "output_type": "display_data"
    },
    {
     "name": "stdout",
     "output_type": "stream",
     "text": [
      "Percent of samples with positive profit: 0.9546\n",
      "Median (USD millions): +249.6\n"
     ]
    }
   ],
   "source": [
    "bins = np.arange(-193560818.0, 3967539093.0, 50000000) # fixed bin size\n",
    "\n",
    "plt.figure(figsize=(15,9), facecolor='#D3D3D3')\n",
    "plt.xlim([min(arr)-500000000, max(arr)+50000])\n",
    "plt.hist(arr, bins=bins, alpha=0.5)\n",
    "plt.title('Profit simulation: \\n Predicting on 5,000 random samples of 5 films each', \n",
    "         fontdict={'fontsize': 20})\n",
    "plt.xlabel('Profit (USD billions)', fontdict={'fontsize': 16})\n",
    "plt.ylabel('Samples', fontdict={'fontsize': 16})\n",
    "\n",
    "plt.show()\n",
    "\n",
    "print(\"Percent of samples with positive profit:\", np.mean([num > 0 for num in arr]))\n",
    "print(\"Median (USD millions):\", '+' + str(round(med/1000000, 1)))"
   ]
  },
  {
   "cell_type": "markdown",
   "metadata": {},
   "source": [
    "### Breaking out simulation by low budget and high"
   ]
  },
  {
   "cell_type": "code",
   "execution_count": 185,
   "metadata": {},
   "outputs": [],
   "source": [
    "def profit_estimator_lb(df, model, X_cols, sample_size=5, num_samples=5000):\n",
    "    '''\n",
    "    '''\n",
    "    profits = []\n",
    "    for s in range(num_samples):\n",
    "        profit = 0\n",
    "        sample_idxs = df[X_cols][df['low_budget'] == 1].sample(n=sample_size).index.tolist()\n",
    "        X = df[X_cols].loc[sample_idxs, :].values\n",
    "        X_scaled = scaler.fit(X).transform(X)\n",
    "        preds = model.predict(X)\n",
    "        pred_df = df.loc[sample_idxs, :]\n",
    "        pred_df['pred_profit'] = preds\n",
    "        for idx in sample_idxs:\n",
    "            if pred_df.loc[idx, 'pred_profit'] == 0:\n",
    "                continue\n",
    "            else:\n",
    "                profit += pred_df.loc[idx, 'profit']\n",
    "        profits.append(profit)\n",
    "        \n",
    "    print(\"mean:\", np.mean(profits), \" median:\", np.median(profits), \" min:\", min(profits), \" max:\", max(profits), \" st dev:\", np.std(profits))\n",
    "    \n",
    "    #add historgram for simulated returns\n",
    "    \n",
    "    return np.mean(profits), np.median(profits), min(profits), max(profits), np.std(profits), profits\n",
    "\n",
    "def profit_estimator_hb(df, model, X_cols, sample_size=5, num_samples=5000):\n",
    "    '''\n",
    "    '''\n",
    "    profits = []\n",
    "    for s in range(num_samples):\n",
    "        profit = 0\n",
    "        sample_idxs = df[X_cols][df['low_budget'] == 0].sample(n=sample_size).index.tolist()\n",
    "        X = df[X_cols].loc[sample_idxs, :].values\n",
    "        X_scaled = scaler.fit(X).transform(X)\n",
    "        preds = model.predict(X)\n",
    "        pred_df = df.loc[sample_idxs, :]\n",
    "        pred_df['pred_profit'] = preds\n",
    "        for idx in sample_idxs:\n",
    "            if pred_df.loc[idx, 'pred_profit'] == 0:\n",
    "                continue\n",
    "            else:\n",
    "                profit += pred_df.loc[idx, 'profit']\n",
    "        profits.append(profit)\n",
    "        \n",
    "    print(\"mean:\", np.mean(profits), \" median:\", np.median(profits), \" min:\", min(profits), \" max:\", max(profits), \" st dev:\", np.std(profits))\n",
    "    \n",
    "    #add historgram for simulated returns\n",
    "    \n",
    "    return np.mean(profits), np.median(profits), min(profits), max(profits), np.std(profits), profits"
   ]
  },
  {
   "cell_type": "code",
   "execution_count": 235,
   "metadata": {},
   "outputs": [
    {
     "name": "stdout",
     "output_type": "stream",
     "text": [
      "mean: 55437298.3968  median: 36054387.5  min: -7616491.0  max: 458570545.0  st dev: 59135110.71639348\n"
     ]
    }
   ],
   "source": [
    "#functions in hidden cell above\n",
    "mean, med, min_, max_, std, arr = profit_estimator_lb(df, model, X_cols, sample_size=5)"
   ]
  },
  {
   "cell_type": "code",
   "execution_count": 239,
   "metadata": {},
   "outputs": [
    {
     "data": {
      "image/png": "[encoded data removed]",
      "text/plain": [
       "<Figure size 864x648 with 1 Axes>"
      ]
     },
     "metadata": {},
     "output_type": "display_data"
    },
    {
     "name": "stdout",
     "output_type": "stream",
     "text": [
      "Percent of samples with positive profit: 0.9744\n",
      "Median (USD millions): +36.1\n"
     ]
    }
   ],
   "source": [
    "bins = np.arange(-17065995.0, 596882893, 5000000) # fixed bin size\n",
    "\n",
    "plt.figure(figsize=(12,9), facecolor='#D3D3D3')\n",
    "plt.xlim([min(arr)-50000000, max(arr)+50000])\n",
    "plt.hist(arr, bins=bins, alpha=0.5)\n",
    "plt.title('Profit simulation: \\n Predicting on 5,000 random samples of 5 films each (Low Budget only)', \n",
    "         fontdict={'fontsize': 18})\n",
    "plt.xlabel('Profit (USD billions)', fontdict={'fontsize': 15})\n",
    "plt.ylabel('Samples', fontdict={'fontsize': 15})\n",
    "\n",
    "plt.show()\n",
    "\n",
    "print(\"Percent of samples with positive profit:\", np.mean([num > 0 for num in arr]))\n",
    "print(\"Median (USD millions):\", '+' + str(round(med/1000000, 1)))"
   ]
  },
  {
   "cell_type": "code",
   "execution_count": 240,
   "metadata": {},
   "outputs": [
    {
     "name": "stdout",
     "output_type": "stream",
     "text": [
      "mean: 396502357.1132  median: 290754582.5  min: -156609320.0  max: 3121658676.0  st dev: 374842770.3596796\n"
     ]
    }
   ],
   "source": [
    "mean, med, min_, max_, std, arr = profit_estimator_hb(df, model, X_cols, sample_size=5)"
   ]
  },
  {
   "cell_type": "code",
   "execution_count": 242,
   "metadata": {},
   "outputs": [
    {
     "data": {
      "image/png": "[encoded data removed]",
      "text/plain": [
       "<Figure size 864x648 with 1 Axes>"
      ]
     },
     "metadata": {},
     "output_type": "display_data"
    },
    {
     "name": "stdout",
     "output_type": "stream",
     "text": [
      "Percent of samples with positive profit: 0.958\n",
      "Median (USD millions): +290.8\n"
     ]
    }
   ],
   "source": [
    "bins = np.arange(-193560818.0, 3967539093.0, 50000000) # fixed bin size\n",
    "\n",
    "\n",
    "plt.figure(figsize=(12,9), facecolor='#D3D3D3')\n",
    "plt.xlim([min(arr)-500000000, max(arr)+50000])\n",
    "plt.hist(arr, bins=bins, alpha=0.5)\n",
    "plt.title('Profit simulation: \\n Predicting on 5,000 random samples of 5 films each (higher budget only)', \n",
    "         fontdict={'fontsize': 18})\n",
    "plt.xlabel('Profit (USD billions)', fontdict={'fontsize': 15})\n",
    "plt.ylabel('Samples', fontdict={'fontsize': 15})\n",
    "\n",
    "plt.show()\n",
    "\n",
    "print(\"Percent of samples with positive profit:\", np.mean([num > 0 for num in arr]))\n",
    "print(\"Median (USD millions):\", '+' + str(round(med/1000000, 1)))"
   ]
  },
  {
   "cell_type": "code",
   "execution_count": 243,
   "metadata": {},
   "outputs": [],
   "source": []
  },
  {
   "cell_type": "markdown",
   "metadata": {},
   "source": [
    "## More thorough RandomizedSearch (params as lists)"
   ]
  },
  {
   "cell_type": "code",
   "execution_count": 19,
   "metadata": {},
   "outputs": [
    {
     "data": {
      "text/plain": [
       "array([0.1, 0.2, 0.3, 0.4, 0.5, 0.6, 0.7, 0.8, 0.9, 1. ])"
      ]
     },
     "execution_count": 19,
     "metadata": {},
     "output_type": "execute_result"
    }
   ],
   "source": [
    "np.linspace(.1, 1, 10)"
   ]
  },
  {
   "cell_type": "code",
   "execution_count": 20,
   "metadata": {},
   "outputs": [],
   "source": [
    "params = {\n",
    "        'eta': [0.0001, 0.001, 0.01, 0.1, 0.2, 0.3], #equiv. to shrinkage (aka learning rate)\n",
    "        'n_estimators': [100, 200, 300, 400, 500, 1000], #number of trees\n",
    "        'min_child_weight': [1, 5, 10], #analogous to min num of observations per leaf, in this case\n",
    "        'gamma': [0, 0.5, 1, 1.5, 2, 5], #Minimum loss reduction required to make a further split on a leaf node.\n",
    "        'subsample': [0.6, 0.8, 1.0], #fraction of observations (rows) to randomly sample for each tree\n",
    "        'colsample_bytree': [0.6, 0.8, 1.0], #fraction of features (cols) to randomly sample for each tree\n",
    "        'max_depth': [3, 6, 9, 12] #max number of splits/interaction depth per tree\n",
    "        }"
   ]
  },
  {
   "cell_type": "code",
   "execution_count": 21,
   "metadata": {},
   "outputs": [
    {
     "data": {
      "text/plain": [
       "{'eta': [0.0001, 0.001, 0.01, 0.1, 0.2, 0.3],\n",
       " 'n_estimators': [100, 200, 300, 400, 500, 1000],\n",
       " 'min_child_weight': [1, 5, 10],\n",
       " 'gamma': [0, 0.5, 1, 1.5, 2, 5],\n",
       " 'subsample': [0.6, 0.8, 1.0],\n",
       " 'colsample_bytree': [0.6, 0.8, 1.0],\n",
       " 'max_depth': [3, 6, 9, 12]}"
      ]
     },
     "execution_count": 21,
     "metadata": {},
     "output_type": "execute_result"
    }
   ],
   "source": [
    "params"
   ]
  },
  {
   "cell_type": "code",
   "execution_count": 22,
   "metadata": {},
   "outputs": [],
   "source": [
    "#train-test split with scaled data - avoiding data leakage by scaling train and test sets separately\n",
    "scaler = StandardScaler()\n",
    "skf = StratifiedKFold(n_splits = 5, shuffle = True)\n",
    "for train_index, test_index in skf.split(X, y):\n",
    "    X_train, y_train = scaler.fit(X[train_index]).transform(X[train_index]), y[train_index]\n",
    "    X_test, y_test = scaler.fit(X[test_index]).transform(X[test_index]), y[test_index]\n",
    "    break"
   ]
  },
  {
   "cell_type": "code",
   "execution_count": 26,
   "metadata": {},
   "outputs": [
    {
     "name": "stdout",
     "output_type": "stream",
     "text": [
      "-------- BEST MODEL --------\n",
      "XGBClassifier(base_score=0.5, booster='gbtree', colsample_bylevel=1,\n",
      "              colsample_bynode=1, colsample_bytree=0.6, eta=0.01, gamma=0.5,\n",
      "              learning_rate=0.1, max_delta_step=0, max_depth=6,\n",
      "              min_child_weight=10, missing=None, n_estimators=100, n_jobs=1,\n",
      "              nthread=1, objective='binary:logistic', random_state=0,\n",
      "              reg_alpha=0, reg_lambda=1, scale_pos_weight=1, seed=None,\n",
      "              silent=None, subsample=0.6, verbosity=1)\n",
      "-------- ---------- --------\n",
      "CPU times: user 1.92 s, sys: 183 ms, total: 2.1 s\n",
      "Wall time: 7min 38s\n"
     ]
    }
   ],
   "source": [
    "%%time\n",
    "model, preds = xgboost(params, 5, X_train, y_train, n_iter=64)"
   ]
  },
  {
   "cell_type": "code",
   "execution_count": 27,
   "metadata": {},
   "outputs": [
    {
     "data": {
      "image/png": "[encoded data removed]",
      "text/plain": [
       "<Figure size 432x288 with 2 Axes>"
      ]
     },
     "metadata": {
      "needs_background": "light"
     },
     "output_type": "display_data"
    },
    {
     "name": "stdout",
     "output_type": "stream",
     "text": [
      "Accuracy =      0.711\n",
      "Precision =     0.888\n",
      "Recall (TPR) =  0.673\n",
      "Fallout (FPR) = 0.200\n",
      "\n",
      "---- Classification Report ----\n",
      "              precision    recall  f1-score   support\n",
      "\n",
      "           0       0.51      0.80      0.62       215\n",
      "           1       0.89      0.67      0.77       505\n",
      "\n",
      "    accuracy                           0.71       720\n",
      "   macro avg       0.70      0.74      0.69       720\n",
      "weighted avg       0.78      0.71      0.72       720\n",
      "\n"
     ]
    }
   ],
   "source": [
    "test_preds = model.predict(X_test)\n",
    "test_preds_75 = (model.predict_proba(X_test)[:,1] >= 0.74).astype(bool)\n",
    "\n",
    "cm = ConfusionMatrix(y_test, test_preds_75, model)\n",
    "cm.plot_matrix()"
   ]
  },
  {
   "cell_type": "code",
   "execution_count": 28,
   "metadata": {},
   "outputs": [
    {
     "data": {
      "text/plain": [
       "0.7875"
      ]
     },
     "execution_count": 28,
     "metadata": {},
     "output_type": "execute_result"
    }
   ],
   "source": [
    "np.mean(preds == 1)\n",
    "#went from 80 previously to 78.75 now"
   ]
  },
  {
   "cell_type": "markdown",
   "metadata": {},
   "source": [
    "### Trying same but with n_iter=128 (didn't perform better)"
   ]
  },
  {
   "cell_type": "code",
   "execution_count": 29,
   "metadata": {
    "collapsed": true,
    "jupyter": {
     "outputs_hidden": true
    }
   },
   "outputs": [
    {
     "name": "stdout",
     "output_type": "stream",
     "text": [
      "-------- BEST MODEL --------\n",
      "XGBClassifier(base_score=0.5, booster='gbtree', colsample_bylevel=1,\n",
      "              colsample_bynode=1, colsample_bytree=1.0, eta=0.001, gamma=5,\n",
      "              learning_rate=0.1, max_delta_step=0, max_depth=3,\n",
      "              min_child_weight=5, missing=None, n_estimators=100, n_jobs=1,\n",
      "              nthread=1, objective='binary:logistic', random_state=0,\n",
      "              reg_alpha=0, reg_lambda=1, scale_pos_weight=1, seed=None,\n",
      "              silent=None, subsample=0.8, verbosity=1)\n",
      "-------- ---------- --------\n",
      "CPU times: user 2.89 s, sys: 275 ms, total: 3.17 s\n",
      "Wall time: 16min 49s\n"
     ]
    }
   ],
   "source": [
    "%%time\n",
    "model, preds = xgboost(params, 5, X_train, y_train, n_iter=128)"
   ]
  },
  {
   "cell_type": "code",
   "execution_count": 32,
   "metadata": {
    "collapsed": true,
    "jupyter": {
     "outputs_hidden": true
    }
   },
   "outputs": [
    {
     "data": {
      "image/png": "[encoded data removed]",
      "text/plain": [
       "<Figure size 432x288 with 2 Axes>"
      ]
     },
     "metadata": {
      "needs_background": "light"
     },
     "output_type": "display_data"
    },
    {
     "name": "stdout",
     "output_type": "stream",
     "text": [
      "Accuracy =      0.700\n",
      "Precision =     0.862\n",
      "Recall (TPR) =  0.681\n",
      "Fallout (FPR) = 0.256\n",
      "\n",
      "---- Classification Report ----\n",
      "              precision    recall  f1-score   support\n",
      "\n",
      "           0       0.50      0.74      0.60       215\n",
      "           1       0.86      0.68      0.76       505\n",
      "\n",
      "    accuracy                           0.70       720\n",
      "   macro avg       0.68      0.71      0.68       720\n",
      "weighted avg       0.75      0.70      0.71       720\n",
      "\n"
     ]
    }
   ],
   "source": [
    "test_preds = model.predict(X_test)\n",
    "test_preds_75 = (model.predict_proba(X_test)[:,1] >= 0.74).astype(bool)\n",
    "\n",
    "cm = ConfusionMatrix(y_test, test_preds_75, model)\n",
    "cm.plot_matrix()"
   ]
  },
  {
   "cell_type": "code",
   "execution_count": null,
   "metadata": {},
   "outputs": [],
   "source": []
  },
  {
   "cell_type": "markdown",
   "metadata": {},
   "source": [
    "## More thorough RandomizedSearch 2 (params as distributions)"
   ]
  },
  {
   "cell_type": "code",
   "execution_count": 71,
   "metadata": {},
   "outputs": [],
   "source": [
    "from scipy.stats import uniform, randint, expon"
   ]
  },
  {
   "cell_type": "code",
   "execution_count": 77,
   "metadata": {},
   "outputs": [],
   "source": [
    "params = {\n",
    "        'eta': uniform(loc=0.0001, scale=0.3), #[0.0001, 0.001, 0.01, 0.1, 0.2, 0.3], #Equiv. to shrinkage (aka learning rate)\n",
    "        'n_estimators': randint(100, 1000), #[100, 200, 300, 400, 500, 1000], #Num of trees\n",
    "        'min_child_weight': randint(1, 10), #[1, 5, 10], #Analogous to min num of observations per leaf, in this case\n",
    "        'gamma': expon(), #[0, 0.5, 1, 1.5, 2, 5], #Min loss reduction required to make a further split on a leaf node.\n",
    "        'subsample': uniform(loc=.6, scale=.4), #[0.6, 0.8, 1.0], #Pct of observations (rows) to randomly sample for each tree\n",
    "        'colsample_bytree': uniform(loc=.6, scale=.4), #[0.6, 0.8, 1.0], #Pct of features (cols) to randomly sample for each tree\n",
    "        'max_depth': randint(3, 12), #[3, 6, 9, 12] #Max number of splits/interaction depth per tree\n",
    "        }"
   ]
  },
  {
   "cell_type": "code",
   "execution_count": 78,
   "metadata": {},
   "outputs": [
    {
     "data": {
      "text/plain": [
       "{'eta': <scipy.stats._distn_infrastructure.rv_frozen at 0x1c1f601240>,\n",
       " 'n_estimators': <scipy.stats._distn_infrastructure.rv_frozen at 0x1c1f6011d0>,\n",
       " 'min_child_weight': <scipy.stats._distn_infrastructure.rv_frozen at 0x1c1f601128>,\n",
       " 'gamma': <scipy.stats._distn_infrastructure.rv_frozen at 0x1c1fb31518>,\n",
       " 'subsample': <scipy.stats._distn_infrastructure.rv_frozen at 0x1c1fb0a5c0>,\n",
       " 'colsample_bytree': <scipy.stats._distn_infrastructure.rv_frozen at 0x1c1fb0acc0>,\n",
       " 'max_depth': <scipy.stats._distn_infrastructure.rv_frozen at 0x1c1fb0ad30>}"
      ]
     },
     "execution_count": 78,
     "metadata": {},
     "output_type": "execute_result"
    }
   ],
   "source": [
    "params"
   ]
  },
  {
   "cell_type": "code",
   "execution_count": 79,
   "metadata": {},
   "outputs": [],
   "source": [
    "#train-test split with scaled data - avoiding data leakage by scaling train and test sets separately\n",
    "scaler = StandardScaler()\n",
    "skf = StratifiedKFold(n_splits = 5, shuffle = True)\n",
    "for train_index, test_index in skf.split(X, y):\n",
    "    X_train, y_train = scaler.fit(X[train_index]).transform(X[train_index]), y[train_index]\n",
    "    X_test, y_test = scaler.fit(X[test_index]).transform(X[test_index]), y[test_index]\n",
    "    break"
   ]
  },
  {
   "cell_type": "code",
   "execution_count": 80,
   "metadata": {},
   "outputs": [
    {
     "name": "stdout",
     "output_type": "stream",
     "text": [
      "-------- BEST MODEL --------\n",
      "XGBClassifier(base_score=0.5, booster='gbtree', colsample_bylevel=1,\n",
      "              colsample_bynode=1, colsample_bytree=0.8063884532607343,\n",
      "              eta=0.1055908692377631, gamma=0.294735933590237,\n",
      "              learning_rate=0.1, max_delta_step=0, max_depth=3,\n",
      "              min_child_weight=1, missing=None, n_estimators=135, n_jobs=1,\n",
      "              nthread=1, objective='binary:logistic', random_state=0,\n",
      "              reg_alpha=0, reg_lambda=1, scale_pos_weight=1, seed=None,\n",
      "              silent=None, subsample=0.7108054821707062, verbosity=1)\n",
      "-------- ---------- --------\n",
      "CPU times: user 2.11 s, sys: 180 ms, total: 2.29 s\n",
      "Wall time: 10min 20s\n"
     ]
    }
   ],
   "source": [
    "%%time\n",
    "iterations = 64 #number of models, trades off runtime for model performance\n",
    "model, preds = xgboost(params, 5, X_train, y_train, n_iter=iterations)"
   ]
  },
  {
   "cell_type": "code",
   "execution_count": 83,
   "metadata": {},
   "outputs": [
    {
     "data": {
      "image/png": "[encoded data removed]",
      "text/plain": [
       "<Figure size 432x288 with 2 Axes>"
      ]
     },
     "metadata": {
      "needs_background": "light"
     },
     "output_type": "display_data"
    },
    {
     "name": "stdout",
     "output_type": "stream",
     "text": [
      "Accuracy =      0.668\n",
      "Precision =     0.858\n",
      "Recall (TPR) =  0.632\n",
      "Fallout (FPR) = 0.247\n",
      "\n",
      "---- Classification Report ----\n",
      "              precision    recall  f1-score   support\n",
      "\n",
      "           0       0.47      0.75      0.58       215\n",
      "           1       0.86      0.63      0.73       505\n",
      "\n",
      "    accuracy                           0.67       720\n",
      "   macro avg       0.66      0.69      0.65       720\n",
      "weighted avg       0.74      0.67      0.68       720\n",
      "\n"
     ]
    }
   ],
   "source": [
    "test_preds = model.predict(X_test)\n",
    "test_preds_75 = (model.predict_proba(X_test)[:,1] >= 0.74).astype(bool)\n",
    "\n",
    "cm = ConfusionMatrix(y_test, test_preds_75, model)\n",
    "cm.plot_matrix()"
   ]
  },
  {
   "cell_type": "code",
   "execution_count": null,
   "metadata": {},
   "outputs": [],
   "source": []
  }
 ],
 "metadata": {
  "kernelspec": {
   "display_name": "Python 3",
   "language": "python",
   "name": "python3"
  },
  "language_info": {
   "codemirror_mode": {
    "name": "ipython",
    "version": 3
   },
   "file_extension": ".py",
   "mimetype": "text/x-python",
   "name": "python",
   "nbconvert_exporter": "python",
   "pygments_lexer": "ipython3",
   "version": "3.7.3"
  }
 },
 "nbformat": 4,
 "nbformat_minor": 4
}
